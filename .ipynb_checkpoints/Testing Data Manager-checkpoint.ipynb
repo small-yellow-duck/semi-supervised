{
 "metadata": {
  "name": ""
 },
 "nbformat": 3,
 "nbformat_minor": 0,
 "worksheets": [
  {
   "cells": [
    {
     "cell_type": "code",
     "collapsed": false,
     "input": [
      "import data_manager\n",
      "import misc"
     ],
     "language": "python",
     "metadata": {},
     "outputs": [],
     "prompt_number": 1
    },
    {
     "cell_type": "code",
     "collapsed": false,
     "input": [
      "\n",
      "(X_train,Y_train),(X_test,Y_test)=\\\n",
      "\t\t\tmisc.create_synthetic_data(\tnum_labels=3,\\\n",
      "\t\t\t\t\t\t\t\t\t\tnum_train=20,\\\n",
      "\t\t\t\t\t\t\t\t\t\tnum_feats=10,\\\n",
      "\t\t\t\t\t\t\t\t\t\tfrac_labelled=.4,\\\n",
      "\t\t\t\t\t\t\t\t\t\tnum_test=5,\\\n",
      "\t\t\t\t\t\t\t\t\t\tsparsity=2,\\\n",
      "\t\t\t\t\t\t\t\t\t\tskew=2,\\\n",
      "\t\t\t\t\t\t\t\t\t\trand_seed=0)"
     ],
     "language": "python",
     "metadata": {},
     "outputs": [],
     "prompt_number": 3
    },
    {
     "cell_type": "code",
     "collapsed": false,
     "input": [
      "\n",
      "print \"Synthetic Data Created:\"\n",
      "print \"Train\"\n",
      "misc.print_labels_1_feats(X_train,Y_train)\n",
      "print \"test\"\n",
      "misc.print_labels_1_feats(X_test,Y_test)\n",
      "print \"-\"*50"
     ],
     "language": "python",
     "metadata": {},
     "outputs": [
      {
       "output_type": "stream",
       "stream": "stdout",
       "text": [
        "Synthetic Data Created:\n",
        "Train\n",
        "train labels | features\n",
        "[[ 0.  1.  1.  0.  0.  1.  0.  1.  0.  1.  1.  0.]\n",
        " [ 1.  1.  0.  0.  1.  0.  1.  0.  0.  0.  1.  0.]\n",
        " [ 0.  1.  1.  0.  1.  1.  0.  0.  0.  1.  0.  1.]\n",
        " [ 2.  1.  1.  0.  1.  1.  0.  0.  0.  1.  0.  1.]\n",
        " [ 2.  1.  1.  0.  1.  1.  1.  0.  0.  0.  0.  1.]\n",
        " [ 2.  1.  1.  0.  0.  1.  0.  0.  0.  0.  1.  0.]\n",
        " [ 0.  1.  1.  0.  0.  0.  0.  0.  0.  0.  0.  0.]\n",
        " [ 3.  1.  1.  1.  0.  0.  0.  0.  0.  1.  0.  0.]\n",
        " [ 0.  1.  1.  1.  0.  0.  0.  0.  0.  1.  0.  0.]\n",
        " [ 0.  1.  0.  1.  0.  0.  0.  1.  0.  1.  1.  1.]\n",
        " [ 0.  1.  1.  0.  0.  1.  0.  0.  0.  1.  0.  0.]\n",
        " [ 0.  1.  0.  1.  0.  1.  0.  0.  0.  1.  1.  0.]\n",
        " [ 1.  1.  1.  1.  0.  0.  1.  1.  0.  1.  1.  0.]\n",
        " [ 2.  1.  1.  0.  0.  1.  0.  0.  0.  1.  0.  1.]\n",
        " [ 3.  1.  1.  1.  0.  1.  0.  1.  0.  1.  1.  1.]\n",
        " [ 1.  1.  1.  0.  0.  0.  0.  0.  0.  1.  1.  1.]\n",
        " [ 1.  1.  0.  1.  0.  0.  0.  0.  0.  1.  1.  0.]\n",
        " [ 0.  1.  1.  0.  0.  0.  0.  1.  0.  1.  1.  0.]\n",
        " [ 0.  1.  0.  1.  0.  1.  0.  0.  1.  1.  1.  0.]\n",
        " [ 0.  1.  0.  0.  1.  1.  0.  1.  0.  1.  1.  0.]]\n",
        "test\n",
        "train labels | features\n",
        "[[ 2.  1.  0.  0.  1.  1.  0.  0.  0.  0.  1.  1.]\n",
        " [ 1.  1.  1.  1.  0.  0.  0.  0.  0.  0.  0.  0.]\n",
        " [ 3.  1.  1.  0.  0.  0.  0.  1.  0.  1.  0.  0.]\n",
        " [ 1.  1.  0.  0.  0.  1.  0.  1.  0.  1.  1.  0.]\n",
        " [ 3.  1.  0.  0.  0.  0.  0.  1.  0.  1.  1.  1.]]\n",
        "--------------------------------------------------\n"
       ]
      }
     ],
     "prompt_number": 5
    },
    {
     "cell_type": "code",
     "collapsed": false,
     "input": [
      "dm=data_manager.data_manager(\tcsr_train_feats=X_train,\\\n",
      "\t\t\t\t\t\t\t\t\ttrain_labels___0_means_unlabelled=Y_train,\\\n",
      "\t\t\t\t\t\t\t\t\tcsr_test_feats=X_test,\\\n",
      "\t\t\t\t\t\t\t\t\ttest_labels=Y_test,\\\n",
      "\t\t\t\t\t\t\t\t\tdropout_rates=set(),\\\n",
      "\t\t\t\t\t\t\t\t\tmax_num_dropout_corruptions_per_point=None\\\n",
      "\t\t\t\t\t\t\t\t)\n",
      "(tr_X,tr_Y),tr_XU,(te_X,te_Y)=dm.get_data_no_dropout()"
     ],
     "language": "python",
     "metadata": {},
     "outputs": [
      {
       "ename": "IndexError",
       "evalue": "arrays used as indices must be of integer (or boolean) type",
       "output_type": "pyerr",
       "traceback": [
        "\u001b[1;31m---------------------------------------------------------------------------\u001b[0m\n\u001b[1;31mIndexError\u001b[0m                                Traceback (most recent call last)",
        "\u001b[1;32m<ipython-input-7-bc3608cedac7>\u001b[0m in \u001b[0;36m<module>\u001b[1;34m()\u001b[0m\n\u001b[0;32m      1\u001b[0m \u001b[0mdm\u001b[0m\u001b[1;33m=\u001b[0m\u001b[0mdata_manager\u001b[0m\u001b[1;33m.\u001b[0m\u001b[0mdata_manager\u001b[0m\u001b[1;33m(\u001b[0m   \u001b[0mcsr_train_feats\u001b[0m\u001b[1;33m=\u001b[0m\u001b[0mX_train\u001b[0m\u001b[1;33m,\u001b[0m                                                                        \u001b[0mtrain_labels___0_means_unlabelled\u001b[0m\u001b[1;33m=\u001b[0m\u001b[0mY_train\u001b[0m\u001b[1;33m,\u001b[0m                                                                      \u001b[0mcsr_test_feats\u001b[0m\u001b[1;33m=\u001b[0m\u001b[0mX_test\u001b[0m\u001b[1;33m,\u001b[0m                                                                  \u001b[0mtest_labels\u001b[0m\u001b[1;33m=\u001b[0m\u001b[0mY_test\u001b[0m\u001b[1;33m,\u001b[0m                                                                     \u001b[0mdropout_rates\u001b[0m\u001b[1;33m=\u001b[0m\u001b[0mset\u001b[0m\u001b[1;33m(\u001b[0m\u001b[1;33m)\u001b[0m\u001b[1;33m,\u001b[0m                                                                    \u001b[0mmax_num_dropout_corruptions_per_point\u001b[0m\u001b[1;33m=\u001b[0m\u001b[0mNone\u001b[0m                                                              \u001b[1;33m)\u001b[0m\u001b[1;33m\u001b[0m\u001b[0m\n\u001b[1;32m----> 2\u001b[1;33m \u001b[1;33m(\u001b[0m\u001b[0mtr_X\u001b[0m\u001b[1;33m,\u001b[0m\u001b[0mtr_Y\u001b[0m\u001b[1;33m)\u001b[0m\u001b[1;33m,\u001b[0m\u001b[0mtr_XU\u001b[0m\u001b[1;33m,\u001b[0m\u001b[1;33m(\u001b[0m\u001b[0mte_X\u001b[0m\u001b[1;33m,\u001b[0m\u001b[0mte_Y\u001b[0m\u001b[1;33m)\u001b[0m\u001b[1;33m=\u001b[0m\u001b[0mdm\u001b[0m\u001b[1;33m.\u001b[0m\u001b[0mget_data_no_dropout\u001b[0m\u001b[1;33m(\u001b[0m\u001b[1;33m)\u001b[0m\u001b[1;33m\u001b[0m\u001b[0m\n\u001b[0m",
        "\u001b[1;32mC:\\Users\\Willem\\SkyDrive\\Documents\\School\\SFU\\Research\\Kiri\\data_manager.pyc\u001b[0m in \u001b[0;36mget_data_no_dropout\u001b[1;34m(self)\u001b[0m\n\u001b[0;32m    228\u001b[0m                 \u001b[0mtr_XU\u001b[0m\u001b[1;33m=\u001b[0m\u001b[0mself\u001b[0m\u001b[1;33m.\u001b[0m\u001b[0mcsr_train_feats\u001b[0m\u001b[1;33m[\u001b[0m\u001b[0mself\u001b[0m\u001b[1;33m.\u001b[0m\u001b[0mbool_train_unlabelled\u001b[0m\u001b[1;33m]\u001b[0m \u001b[1;31m#No dropout for the unlabelled data!\u001b[0m\u001b[1;33m\u001b[0m\u001b[0m\n\u001b[0;32m    229\u001b[0m                 \u001b[0mte_X\u001b[0m\u001b[1;33m=\u001b[0m\u001b[0mself\u001b[0m\u001b[1;33m.\u001b[0m\u001b[0mcsr_test_feats\u001b[0m\u001b[1;33m\u001b[0m\u001b[0m\n\u001b[1;32m--> 230\u001b[1;33m                 \u001b[0mte_Y\u001b[0m\u001b[1;33m=\u001b[0m\u001b[0mself\u001b[0m\u001b[1;33m.\u001b[0m\u001b[0mtest_labels\u001b[0m\u001b[1;33m\u001b[0m\u001b[0m\n\u001b[0m\u001b[0;32m    231\u001b[0m                 \u001b[1;32mreturn\u001b[0m \u001b[1;33m(\u001b[0m\u001b[1;33m(\u001b[0m\u001b[0mtr_X\u001b[0m\u001b[1;33m,\u001b[0m\u001b[0mtr_Y\u001b[0m\u001b[1;33m)\u001b[0m\u001b[1;33m,\u001b[0m\u001b[0mtr_XU\u001b[0m\u001b[1;33m,\u001b[0m\u001b[1;33m(\u001b[0m\u001b[0mte_X\u001b[0m\u001b[1;33m,\u001b[0m\u001b[0mte_Y\u001b[0m\u001b[1;33m)\u001b[0m\u001b[1;33m)\u001b[0m\u001b[1;33m\u001b[0m\u001b[0m\n\u001b[0;32m    232\u001b[0m \u001b[1;33m\u001b[0m\u001b[0m\n",
        "\u001b[1;32mC:\\Users\\Willem\\SkyDrive\\Documents\\School\\SFU\\Research\\Kiri\\data_manager.pyc\u001b[0m in \u001b[0;36m__get_data__\u001b[1;34m(self, percent_dropout, num_dropout_corruptions_per_point, bool_targetted_dropout)\u001b[0m\n\u001b[0;32m    214\u001b[0m                         \u001b[1;32massert\u001b[0m \u001b[1;36m1\u001b[0m\u001b[1;33m<=\u001b[0m\u001b[0mnum_dropout_corruptions_per_point\u001b[0m\u001b[1;33m<=\u001b[0m\u001b[0mself\u001b[0m\u001b[1;33m.\u001b[0m\u001b[0mmax_num_dropout_corruptions_per_point\u001b[0m\u001b[1;33m\u001b[0m\u001b[0m\n\u001b[0;32m    215\u001b[0m                 \u001b[1;32massert\u001b[0m \u001b[0mlen\u001b[0m\u001b[1;33m(\u001b[0m\u001b[0mself\u001b[0m\u001b[1;33m.\u001b[0m\u001b[0mdict_csr_rand_and_targetted_dropout_matrices\u001b[0m\u001b[1;33m)\u001b[0m\u001b[1;33m<=\u001b[0m\u001b[1;36m1\u001b[0m \u001b[1;31m#Can remove - right now I just don't see why we would have more than one defined at a time!\u001b[0m\u001b[1;33m\u001b[0m\u001b[0m\n\u001b[1;32m--> 216\u001b[1;33m                 \u001b[1;32mif\u001b[0m \u001b[0mbool_targetted_dropout\u001b[0m \u001b[1;32mand\u001b[0m \u001b[0mpercent_dropout\u001b[0m \u001b[1;32min\u001b[0m \u001b[0mself\u001b[0m\u001b[1;33m.\u001b[0m\u001b[0mdict_csr_rand_and_targetted_dropout_matrices\u001b[0m\u001b[1;33m:\u001b[0m\u001b[1;33m\u001b[0m\u001b[0m\n\u001b[0m\u001b[0;32m    217\u001b[0m                         \u001b[0mmatrix\u001b[0m\u001b[1;33m=\u001b[0m\u001b[0mself\u001b[0m\u001b[1;33m.\u001b[0m\u001b[0mdict_csr_rand_and_targetted_dropout_matrices\u001b[0m\u001b[1;33m[\u001b[0m\u001b[0mpercent_dropout\u001b[0m\u001b[1;33m]\u001b[0m\u001b[1;33m\u001b[0m\u001b[0m\n\u001b[0;32m    218\u001b[0m                 \u001b[1;32melse\u001b[0m\u001b[1;33m:\u001b[0m\u001b[1;33m\u001b[0m\u001b[0m\n",
        "\u001b[1;31mIndexError\u001b[0m: arrays used as indices must be of integer (or boolean) type"
       ]
      },
      {
       "output_type": "stream",
       "stream": "stdout",
       "text": [
        "[[ 0.  1.  0.  1.  1.  1.  0.  1.  0.  0.  0.  0.  1.  1.  1.  1.  1.  0.\n",
        "   0.  0.]]\n"
       ]
      }
     ],
     "prompt_number": 7
    },
    {
     "cell_type": "code",
     "collapsed": false,
     "input": [
      "import numpy as np\n",
      "ones=np.ones(5)"
     ],
     "language": "python",
     "metadata": {},
     "outputs": [],
     "prompt_number": 8
    },
    {
     "cell_type": "code",
     "collapsed": false,
     "input": [
      "ones>0"
     ],
     "language": "python",
     "metadata": {},
     "outputs": [
      {
       "metadata": {},
       "output_type": "pyout",
       "prompt_number": 10,
       "text": [
        "array([ True,  True,  True,  True,  True], dtype=bool)"
       ]
      }
     ],
     "prompt_number": 10
    },
    {
     "cell_type": "code",
     "collapsed": false,
     "input": [
      "np.random.randint(1,3,50)"
     ],
     "language": "python",
     "metadata": {},
     "outputs": [
      {
       "metadata": {},
       "output_type": "pyout",
       "prompt_number": 14,
       "text": [
        "array([1, 2, 2, 2, 2, 2, 1, 1, 2, 2, 2, 2, 1, 2, 1, 1, 2, 1, 2, 1, 2, 2, 1,\n",
        "       2, 2, 1, 2, 1, 1, 1, 1, 2, 1, 1, 2, 1, 1, 1, 2, 1, 2, 1, 1, 1, 1, 2,\n",
        "       2, 2, 1, 1])"
       ]
      }
     ],
     "prompt_number": 14
    },
    {
     "cell_type": "code",
     "collapsed": false,
     "input": [
      "\"4 2 1 .5 .2\".split()"
     ],
     "language": "python",
     "metadata": {},
     "outputs": [
      {
       "metadata": {},
       "output_type": "pyout",
       "prompt_number": 15,
       "text": [
        "['4', '2', '1', '.5', '.2']"
       ]
      }
     ],
     "prompt_number": 15
    },
    {
     "cell_type": "code",
     "collapsed": false,
     "input": [
      "npl=np.ones((1,10),dtype=long)\n",
      "print npl\n",
      "print npl.shape\n",
      "npr=np.arange(30).reshape(3,10)\n",
      "print npr\n",
      "print npr.shape\n",
      "from scipy import sparse as sp\n",
      "npls=sp.csr_matrix(npl)"
     ],
     "language": "python",
     "metadata": {},
     "outputs": [
      {
       "output_type": "stream",
       "stream": "stdout",
       "text": [
        "[[1 1 1 1 1 1 1 1 1 1]]\n",
        "(1L, 10L)\n",
        "[[ 0  1  2  3  4  5  6  7  8  9]\n",
        " [10 11 12 13 14 15 16 17 18 19]\n",
        " [20 21 22 23 24 25 26 27 28 29]]\n",
        "(3L, 10L)\n"
       ]
      }
     ],
     "prompt_number": 20
    },
    {
     "cell_type": "code",
     "collapsed": false,
     "input": [
      "print npr*npl"
     ],
     "language": "python",
     "metadata": {},
     "outputs": [
      {
       "output_type": "stream",
       "stream": "stdout",
       "text": [
        "[[ 0  1  2  3  4  5  6  7  8  9]\n",
        " [10 11 12 13 14 15 16 17 18 19]\n",
        " [20 21 22 23 24 25 26 27 28 29]]\n"
       ]
      }
     ],
     "prompt_number": 21
    },
    {
     "cell_type": "code",
     "collapsed": false,
     "input": [
      "from scipy import sparse as sp\n",
      "npls=sp.csr_matrix(npl)"
     ],
     "language": "python",
     "metadata": {},
     "outputs": [],
     "prompt_number": 22
    },
    {
     "cell_type": "code",
     "collapsed": false,
     "input": [
      "print npr*npls.transpose()"
     ],
     "language": "python",
     "metadata": {},
     "outputs": [
      {
       "output_type": "stream",
       "stream": "stdout",
       "text": [
        "[[ 45]\n",
        " [145]\n",
        " [245]]\n"
       ]
      }
     ],
     "prompt_number": 25
    },
    {
     "cell_type": "code",
     "collapsed": false,
     "input": [
      "!dir"
     ],
     "language": "python",
     "metadata": {},
     "outputs": [
      {
       "output_type": "stream",
       "stream": "stdout",
       "text": [
        " Volume in drive C is ACER\n",
        " Volume Serial Number is B23E-CD77\n",
        "\n",
        " Directory of C:\\Users\\Willem\\SkyDrive\\Documents\\School\\SFU\\Research\\Kiri\n",
        "\n",
        "2014-02-18  02:17 PM    <DIR>          .\n",
        "2014-02-18  02:17 PM    <DIR>          ..\n",
        "2014-01-30  02:47 PM                32 .gitignore\n",
        "2014-01-16  05:18 PM             4,582 2014 01 16 - Figuring out Tokenization.ipynb\n",
        "2014-02-11  01:24 PM             1,077 2014 02 11 - Playing with Python.ipynb\n",
        "2014-02-08  09:01 PM            34,223 2014 10 16 - Understanding Sparse Matrices.ipynb\n",
        "2014-01-21  01:52 PM            38,226 2014 10 20 - What Classifier is Best.ipynb\n",
        "2014-02-11  04:20 PM             3,264 Classifier Perceptron.ipynb\n",
        "2014-02-18  01:51 PM            10,719 classifier.py\n",
        "2014-02-18  01:51 PM            11,680 classifier.pyc\n",
        "2014-01-21  10:41 AM            29,549 Creating_the_data_manager class.ipynb\n",
        "2014-01-16  04:09 PM    <DIR>          data\n",
        "2014-02-09  10:58 AM            23,081 Data Manager - Continued.ipynb\n",
        "2014-01-16  04:00 PM             4,066 dataImport.py\n",
        "2014-01-16  04:08 PM             5,346 dataImport.pyc\n",
        "2014-01-23  04:21 PM           929,919 data_from_Mark.zip\n",
        "2014-02-17  01:50 PM            24,151 data_manager.py\n",
        "2014-02-17  01:50 PM            20,382 data_manager.pyc\n",
        "2014-01-16  04:00 PM             7,406 DL.py\n",
        "2014-01-16  04:08 PM             6,822 DL.pyc\n",
        "2014-02-18  02:16 PM             1,724 misc.py\n",
        "2014-02-18  02:17 PM             2,861 misc.pyc\n",
        "2014-02-16  04:25 PM               188 project1.sublime-project\n",
        "2014-02-16  10:10 PM             3,193 project1.sublime-workspace\n",
        "2014-01-16  04:00 PM                 0 README.md\n",
        "2014-01-20  12:43 PM             5,411 runMe_2014-01-16-BK.py\n",
        "2014-01-22  11:36 AM             5,586 runMe_2014_01_20_BK.py\n",
        "2014-01-20  12:49 PM             4,143 runMe_2014_01_20_BK.pyc\n",
        "2014-01-16  05:31 PM             4,854 runMe_kiri_2013-12-13.py\n",
        "2014-01-16  04:00 PM             5,620 runMe_kiri_2013-12-16.py\n",
        "2014-02-18  02:17 PM             7,960 run_perceptron_2014_02_16.py\n",
        "2014-02-11  03:31 PM             3,680 semi_supervised_learner.py\n",
        "2014-02-18  01:58 PM            13,673 Testing Data Manager.ipynb\n",
        "2014-02-17  02:24 PM            14,422 Testing Data Manager.xlsx\n",
        "2014-02-16  06:16 PM         5,854,185 vectorized_data_df1.pickle\n",
        "2014-02-16  06:16 PM         4,487,177 vectorized_data_df10.pickle\n",
        "2014-02-16  06:16 PM         5,332,889 vectorized_data_df2.pickle\n",
        "2014-02-16  06:16 PM         5,081,537 vectorized_data_df3.pickle\n",
        "2014-02-16  06:16 PM         4,818,005 vectorized_data_df5.pickle\n",
        "2014-02-16  06:16 PM         4,655,189 vectorized_data_df7.pickle\n",
        "2014-01-16  04:00 PM             1,547 Yarowsky.py\n",
        "2014-01-16  04:08 PM             2,101 Yarowsky.pyc\n",
        "              39 File(s)     31,460,470 bytes\n",
        "               3 Dir(s)  394,648,678,400 bytes free\n"
       ]
      }
     ],
     "prompt_number": 26
    },
    {
     "cell_type": "code",
     "collapsed": false,
     "input": [
      "!python run_perceptron_2014_02_16.py"
     ],
     "language": "python",
     "metadata": {},
     "outputs": [
      {
       "output_type": "stream",
       "stream": "stdout",
       "text": [
        "**************************************************\n",
        "USE_SYNTHETIC_DATA\n",
        "Synthetic Data Created:\n",
        "Train\n",
        "train labels | features\n",
        "(20, 10) (20L,)\n"
       ]
      },
      {
       "output_type": "stream",
       "stream": "stderr",
       "text": [
        "Traceback (most recent call last):\n",
        "  File \"run_perceptron_2014_02_16.py\", line 96, in <module>\n",
        "    misc.print_labels_1_feats(X_train,Y_train)\n",
        "  File \"C:\\Users\\Willem\\SkyDrive\\Documents\\School\\SFU\\Research\\Kiri\\misc.py\", line 42, in print_labels_1_feats\n",
        "    matrix_to_print=np.column_stack((Y,np.ones(Y.shape[0]),X))[:max_examples][:,:max_feats+2]\n",
        "  File \"C:\\Users\\Willem\\Anaconda\\lib\\site-packages\\numpy\\lib\\shape_base.py\", line 296, in column_stack\n",
        "    return _nx.concatenate(arrays,1)\n",
        "ValueError: all the input array dimensions except for the concatenation axis must match exactly\n"
       ]
      }
     ],
     "prompt_number": 29
    },
    {
     "cell_type": "code",
     "collapsed": false,
     "input": [
      "#Added \"To Dense\"\n",
      "!python run_perceptron_2014_02_16.py"
     ],
     "language": "python",
     "metadata": {},
     "outputs": [
      {
       "output_type": "stream",
       "stream": "stdout",
       "text": [
        "**************************************************\n",
        "USE_SYNTHETIC_DATA\n",
        "Synthetic Data Created:\n",
        "Train\n",
        "train labels | features\n",
        "(20, 10) (20L,)\n",
        "[[ 0.  1.  1.  0.  0.  1.  0.  1.  0.  1.  1.  0.]\n",
        " [ 1.  1.  0.  0.  1.  0.  1.  0.  0.  0.  1.  0.]\n",
        " [ 0.  1.  1.  0.  1.  1.  0.  0.  0.  1.  0.  1.]\n",
        " [ 2.  1.  1.  0.  1.  1.  0.  0.  0.  1.  0.  1.]\n",
        " [ 2.  1.  1.  0.  1.  1.  1.  0.  0.  0.  0.  1.]\n",
        " [ 2.  1.  1.  0.  0.  1.  0.  0.  0.  0.  1.  0.]\n",
        " [ 0.  1.  1.  0.  0.  0.  0.  0.  0.  0.  0.  0.]\n",
        " [ 3.  1.  1.  1.  0.  0.  0.  0.  0.  1.  0.  0.]\n",
        " [ 0.  1.  1.  1.  0.  0.  0.  0.  0.  1.  0.  0.]\n",
        " [ 0.  1.  0.  1.  0.  0.  0.  1.  0.  1.  1.  1.]\n",
        " [ 0.  1.  1.  0.  0.  1.  0.  0.  0.  1.  0.  0.]\n",
        " [ 0.  1.  0.  1.  0.  1.  0.  0.  0.  1.  1.  0.]\n",
        " [ 1.  1.  1.  1.  0.  0.  1.  1.  0.  1.  1.  0.]\n",
        " [ 2.  1.  1.  0.  0.  1.  0.  0.  0.  1.  0.  1.]\n",
        " [ 3.  1.  1.  1.  0.  1.  0.  1.  0.  1.  1.  1.]\n",
        " [ 1.  1.  1.  0.  0.  0.  0.  0.  0.  1.  1.  1.]\n",
        " [ 1.  1.  0.  1.  0.  0.  0.  0.  0.  1.  1.  0.]\n",
        " [ 0.  1.  1.  0.  0.  0.  0.  1.  0.  1.  1.  0.]\n",
        " [ 0.  1.  0.  1.  0.  1.  0.  0.  1.  1.  1.  0.]\n",
        " [ 0.  1.  0.  0.  1.  1.  0.  1.  0.  1.  1.  0.]]\n",
        "test\n",
        "train labels | features\n",
        "(5, 10) (5L,)\n",
        "[[ 2.  1.  0.  0.  1.  1.  0.  0.  0.  0.  1.  1.]\n",
        " [ 1.  1.  1.  1.  0.  0.  0.  0.  0.  0.  0.  0.]\n",
        " [ 3.  1.  1.  0.  0.  0.  0.  1.  0.  1.  0.  0.]\n",
        " [ 1.  1.  0.  0.  0.  1.  0.  1.  0.  1.  1.  0.]\n",
        " [ 3.  1.  0.  0.  0.  0.  0.  1.  0.  1.  1.  1.]]\n",
        "--------------------------------------------------\n",
        "[False  True False  True  True  True False  True False False False False\n",
        "  True  True  True  True  True False False False]\n",
        "\n",
        "averaged_perceptron_classifier\n",
        "in averaged_perceptron_classifier.train, 0 of 20 points trained on (with duplication)\n",
        "in averaged_perceptron_classifier.train, 10 of 20 points trained on (with duplication)\n",
        "averaged_perceptron:\n",
        "[[-0.5  1.   0.  -2.   1.   1.   0.   0.5  0.5 -0.5]\n",
        " [ 1.  -3.  -0.5  2.  -0.5 -2.   0.  -1.  -0.5  0. ]\n",
        " [-0.5  1.5  0.  -0.5 -2.  -0.5  0.   0.5 -1.5  0.5]]\n",
        "  (0, 8)\t1\n",
        "  (0, 4)\t1\n",
        "  (0, 2)\t1 [[-0.5  1.   0.  -2.   1.   1.   0.   0.5  0.5 -0.5]\n",
        " [ 1.  -3.  -0.5  2.  -0.5 -2.   0.  -1.  -0.5  0. ]\n",
        " [-0.5  1.5  0.  -0.5 -2.  -0.5  0.   0.5 -1.5  0.5]]\n",
        "x.shape, self.averaged_perceptron.shape (1, 10) (3L, 10L)\n"
       ]
      },
      {
       "output_type": "stream",
       "stream": "stderr",
       "text": [
        "Traceback (most recent call last):\n",
        "  File \"run_perceptron_2014_02_16.py\", line 174, in <module>\n",
        "    print_train_and_test_error(p.predict_labels)\n",
        "  File \"run_perceptron_2014_02_16.py\", line 142, in print_train_and_test_error\n",
        "    pred = prediction_fcn(tr_X)\n",
        "  File \"C:\\Users\\Willem\\SkyDrive\\Documents\\School\\SFU\\Research\\Kiri\\classifier.py\", line 51, in predict_labels\n",
        "    ls,cs=self.predict_labels_and_confidences(X)\n",
        "  File \"C:\\Users\\Willem\\SkyDrive\\Documents\\School\\SFU\\Research\\Kiri\\classifier.py\", line 46, in predict_labels_and_confidences\n",
        "    l,c=self.predict_label_and_confidence(x)\t\t\t\n",
        "  File \"C:\\Users\\Willem\\SkyDrive\\Documents\\School\\SFU\\Research\\Kiri\\classifier.py\", line 115, in predict_label_and_confidence\n",
        "    scores=(x*self.averaged_perceptron).sum(axis=1)\n",
        "  File \"C:\\Users\\Willem\\Anaconda\\lib\\site-packages\\scipy\\sparse\\base.py\", line 334, in __mul__\n",
        "    raise ValueError('dimension mismatch')\n",
        "ValueError: dimension mismatch\n"
       ]
      }
     ],
     "prompt_number": 32
    },
    {
     "cell_type": "heading",
     "level": 3,
     "metadata": {},
     "source": [
      "How to matrix multiply a sparse and a non-sparse matrix?"
     ]
    },
    {
     "cell_type": "code",
     "collapsed": false,
     "input": [
      "npl=np.ones((1,10),dtype=long)\n",
      "print npl\n",
      "print npl.shape\n",
      "npr=np.arange(30).reshape(3,10)\n",
      "print npr\n",
      "print npr.shape\n",
      "from scipy import sparse as sp\n",
      "npls=sp.csr_matrix(npl)\n",
      "print npls\n",
      "print npls.shape\n"
     ],
     "language": "python",
     "metadata": {},
     "outputs": [
      {
       "output_type": "stream",
       "stream": "stdout",
       "text": [
        "[[1 1 1 1 1 1 1 1 1 1]]\n",
        "(1L, 10L)\n",
        "[[ 0  1  2  3  4  5  6  7  8  9]\n",
        " [10 11 12 13 14 15 16 17 18 19]\n",
        " [20 21 22 23 24 25 26 27 28 29]]\n",
        "(3L, 10L)\n",
        "  (0, 0)\t1\n",
        "  (0, 1)\t1\n",
        "  (0, 2)\t1\n",
        "  (0, 3)\t1\n",
        "  (0, 4)\t1\n",
        "  (0, 5)\t1\n",
        "  (0, 6)\t1\n",
        "  (0, 7)\t1\n",
        "  (0, 8)\t1\n",
        "  (0, 9)\t1\n",
        "(1, 10)\n"
       ]
      }
     ],
     "prompt_number": 34
    },
    {
     "cell_type": "code",
     "collapsed": false,
     "input": [
      "npls*npr.transpose()"
     ],
     "language": "python",
     "metadata": {},
     "outputs": [
      {
       "metadata": {},
       "output_type": "pyout",
       "prompt_number": 37,
       "text": [
        "array([[ 45, 145, 245]], dtype=int64)"
       ]
      }
     ],
     "prompt_number": 37
    },
    {
     "cell_type": "code",
     "collapsed": false,
     "input": [
      "npr*npls.transpose()"
     ],
     "language": "python",
     "metadata": {},
     "outputs": [
      {
       "metadata": {},
       "output_type": "pyout",
       "prompt_number": 39,
       "text": [
        "array([[ 45],\n",
        "       [145],\n",
        "       [245]], dtype=int64)"
       ]
      }
     ],
     "prompt_number": 39
    },
    {
     "cell_type": "code",
     "collapsed": false,
     "input": [
      "o=(npls*npr.transpose())[0]\n",
      "print o\n",
      "print o[0]"
     ],
     "language": "python",
     "metadata": {},
     "outputs": [
      {
       "output_type": "stream",
       "stream": "stdout",
       "text": [
        "[ 45 145 245]\n",
        "45\n"
       ]
      }
     ],
     "prompt_number": 44
    },
    {
     "cell_type": "code",
     "collapsed": false,
     "input": [
      "!python run_perceptron_2014_02_16.py"
     ],
     "language": "python",
     "metadata": {},
     "outputs": [
      {
       "output_type": "stream",
       "stream": "stdout",
       "text": [
        "min_df 3\n",
        "X train.shape (89305, 14623)\n",
        "X test.shape (877, 14623)\n",
        "Y train.shape (89305L,)\n",
        "Y test.shape (877L,)\n",
        "[False False False ..., False False False]\n",
        "\n",
        "Perceptron\n",
        "training score  1.0\n",
        "test score  0.413911060433\n",
        "\n",
        "LogisticRegression\n",
        "training score  1.0\n",
        "test score  0.535917901938\n",
        "C = 0.1\n",
        "training score  0.999767522957\n",
        "test score  0.533637400228\n",
        "C = 0.316227766017\n",
        "training score  1.0\n",
        "test score  0.534777651083\n",
        "C = 1.0\n",
        "training score  1.0\n",
        "test score  0.535917901938\n",
        "C = 3.16227766017\n",
        "training score  1.0\n",
        "test score  0.537058152794\n",
        "C = 10.0\n",
        "training score  1.0\n",
        "test score  0.540478905359\n",
        "\n",
        "LogisticRegression\n",
        "\n",
        "perceptron_classifier\n",
        "training score  1.0\n",
        "test score  0.534777651083\n",
        "\n",
        "averaged_perceptron_classifier\n",
        "averaged_perceptron:\n",
        "[[ 0.  0.  0. ...,  0.  0.  0.]\n",
        " [ 0.  0.  0. ...,  0.  0.  0.]\n",
        " [ 0.  0.  0. ...,  0.  0.  0.]]\n",
        "training score  1.0\n",
        "test score  0.404789053592\n"
       ]
      }
     ],
     "prompt_number": 57
    },
    {
     "cell_type": "heading",
     "level": 3,
     "metadata": {},
     "source": [
      "Testing the randomized corruption in the data manager!"
     ]
    },
    {
     "cell_type": "code",
     "collapsed": false,
     "input": [
      "!python run_perceptron_2014_02_16.py"
     ],
     "language": "python",
     "metadata": {},
     "outputs": [
      {
       "output_type": "stream",
       "stream": "stdout",
       "text": [
        "min_df 3\n",
        "X train.shape (89305, 14623)\n",
        "X test.shape (877, 14623)\n",
        "Y train.shape (89305L,)\n",
        "Y test.shape (877L,)\n",
        "**************************************************\n",
        "TEST_DATA_MANAGER\n",
        "for dropout rate 0 there are 359653 nonzero elements\n",
        "for dropout rate 0.05 there are 683463 nonzero elements\n",
        "for dropout rate 0.1 there are 647564 nonzero elements\n",
        "for dropout rate 0.2 there are 575796 nonzero elements\n",
        "[False False False ..., False False False]\n",
        "DROPOUT RATE 0\n",
        "tr_X\n",
        "  (0, 14581)\t1\n",
        "  (0, 12284)\t1\n",
        "  (0, 11320)\t1\n",
        "  (0, 7961)\t1\n",
        "  (0, 3990)\t1\n",
        "  (1, 14580)\t1\n",
        "  (1, 1611)\t1\n",
        "  (1, 893)\t1\n",
        "  (2, 14590)\t1\n",
        "  (2, 14583)\t1\n",
        "  (2, 14581)\t1\n",
        "  (2, 6008)\t1\n",
        "  (3, 14587)\t1\n",
        "  (3, 14580)\t1\n",
        "  (3, 12437)\t1\n",
        "  (3, 509)\t1\n",
        "  (4, 14587)\t1\n",
        "  (4, 14580)\t1\n",
        "  (4, 12437)\t1\n",
        "  (4, 10057)\t1\n",
        "  (4, 4188)\t1\n",
        "  (4, 838)\t1\n",
        "  (5, 14580)\t1\n",
        "  (5, 1611)\t1\n",
        "  (6, 14590)\t1\n",
        "  :\t:\n",
        "  (8598, 12534)\t1\n",
        "  (8598, 7267)\t1\n",
        "  (8598, 4494)\t1\n",
        "  (8599, 14587)\t1\n",
        "  (8599, 14581)\t1\n",
        "  (8599, 12437)\t1\n",
        "  (8599, 8963)\t1\n",
        "  (8599, 7067)\t1\n",
        "  (8599, 4158)\t1\n",
        "  (8600, 14581)\t1\n",
        "  (8600, 12583)\t1\n",
        "  (8600, 11320)\t1\n",
        "  (8600, 8639)\t1\n",
        "  (8600, 4571)\t1\n",
        "  (8601, 14581)\t1\n",
        "  (8601, 13619)\t1\n",
        "  (8601, 11836)\t1\n",
        "  (8601, 11320)\t1\n",
        "  (8601, 11277)\t1\n",
        "  (8601, 8596)\t1\n",
        "  (8601, 5525)\t1\n",
        "  (8602, 14587)\t1\n",
        "  (8602, 14580)\t1\n",
        "  (8602, 12437)\t1\n",
        "  (8602, 546)\t1\n",
        "tr_Y\n",
        "[ 3.  1.  1. ...,  3.  3.  2.]\n",
        "tr_XU\n",
        "  (0, 14580)\t1\n",
        "  (0, 13295)\t1\n",
        "  (0, 11516)\t1\n",
        "  (0, 577)\t1\n",
        "  (1, 14581)\t1\n",
        "  (1, 7839)\t1\n",
        "  (1, 5684)\t1\n",
        "  (2, 14581)\t1\n",
        "  (2, 7528)\t1\n",
        "  (2, 6197)\t1\n",
        "  (3, 14581)\t1\n",
        "  (3, 7267)\t1\n",
        "  (3, 6197)\t1\n",
        "  (4, 14580)\t1\n",
        "  (4, 11515)\t1\n",
        "  (4, 11449)\t1\n",
        "  (4, 577)\t1\n",
        "  (5, 14581)\t1\n",
        "  (5, 7841)\t1\n",
        "  (5, 1196)\t1\n",
        "  (6, 14580)\t1\n",
        "  (6, 11450)\t1\n",
        "  (6, 577)\t1\n",
        "  (7, 14581)\t1\n",
        "  (7, 8079)\t1\n",
        "  :\t:\n",
        "  (80693, 518)\t1\n",
        "  (80694, 14580)\t1\n",
        "  (80694, 10126)\t1\n",
        "  (80694, 693)\t1\n",
        "  (80695, 14581)\t1\n",
        "  (80695, 7381)\t1\n",
        "  (80696, 14581)\t1\n",
        "  (80696, 8343)\t1\n",
        "  (80696, 4151)\t1\n",
        "  (80697, 14580)\t1\n",
        "  (80697, 868)\t1\n",
        "  (80698, 14581)\t1\n",
        "  (80699, 14587)\t1\n",
        "  (80699, 14580)\t1\n",
        "  (80699, 14319)\t1\n",
        "  (80699, 9743)\t1\n",
        "  (80699, 8764)\t1\n",
        "  (80699, 129)\t1\n",
        "  (80700, 14587)\t1\n",
        "  (80700, 14580)\t1\n",
        "  (80700, 13295)\t1\n",
        "  (80700, 10337)\t1\n",
        "  (80700, 628)\t1\n",
        "  (80701, 14582)\t1\n",
        "  (80701, 14580)\t1\n",
        "te_X\n",
        "  (0, 577)\t1\n",
        "  (0, 11516)\t1\n",
        "  (0, 13295)\t1\n",
        "  (0, 14580)\t1\n",
        "  (1, 480)\t1\n",
        "  (1, 14580)\t1\n",
        "  (2, 85)\t1\n",
        "  (2, 4735)\t1\n",
        "  (2, 10012)\t1\n",
        "  (2, 12502)\t1\n",
        "  (2, 12765)\t1\n",
        "  (2, 14580)\t1\n",
        "  (3, 573)\t1\n",
        "  (3, 3531)\t1\n",
        "  (3, 11320)\t1\n",
        "  (3, 11649)\t1\n",
        "  (3, 14580)\t1\n",
        "  (4, 158)\t1\n",
        "  (4, 5234)\t1\n",
        "  (4, 13295)\t1\n",
        "  (4, 13854)\t1\n",
        "  (4, 14580)\t1\n",
        "  (5, 11285)\t1\n",
        "  (5, 13472)\t1\n",
        "  (5, 14359)\t1\n",
        "  :\t:\n",
        "  (871, 4494)\t1\n",
        "  (871, 8408)\t1\n",
        "  (871, 12534)\t1\n",
        "  (871, 14534)\t1\n",
        "  (871, 14581)\t1\n",
        "  (872, 6667)\t1\n",
        "  (872, 11421)\t1\n",
        "  (872, 14028)\t1\n",
        "  (872, 14309)\t1\n",
        "  (872, 14581)\t1\n",
        "  (872, 14587)\t1\n",
        "  (873, 2589)\t1\n",
        "  (873, 8408)\t1\n",
        "  (873, 14581)\t1\n",
        "  (874, 1246)\t1\n",
        "  (874, 7226)\t1\n",
        "  (874, 14581)\t1\n",
        "  (875, 6341)\t1\n",
        "  (875, 7268)\t1\n",
        "  (875, 14581)\t1\n",
        "  (876, 6008)\t1\n",
        "  (876, 8504)\t1\n",
        "  (876, 14581)\t1\n",
        "  (876, 14583)\t1\n",
        "  (876, 14590)\t1\n",
        "te_Y\n",
        "[2 3 3 3 2 2 2 3 2 3 2 1 2 3 3 3 3 2 2 3 1 2 2 2 2 2 2 3 2 3 1 2 2 2 3 1 2\n",
        " 2 2 1 1 1 2 2 1 1 2 2 1 2 2 2 2 2 3 2 2 2 2 3 3 2 2 1 3 2 2 3 1 2 2 2 3 2\n",
        " 3 1 2 2 1 2 2 2 2 2 2 2 3 1 2 2 3 2 2 3 1 3 2 2 3 2 2 2 2 2 3 2 3 3 1 2 2\n",
        " 3 2 3 2 1 2 3 3 2 2 3 1 3 2 2 2 2 3 2 1 3 3 2 2 2 2 3 2 2 2 2 2 3 2 2 2 2\n",
        " 3 2 2 1 3 2 2 2 2 2 3 2 2 3 2 3 2 3 2 3 2 3 3 3 2 2 2 2 2 3 2 2 1 2 2 3 2\n",
        " 2 3 2 3 2 2 2 1 1 2 2 1 3 2 1 2 2 2 3 2 2 2 2 3 2 3 3 2 2 3 3 2 3 1 2 1 3\n",
        " 3 2 2 2 2 2 3 2 3 2 1 2 3 2 3 2 2 3 3 2 2 2 2 2 2 2 2 1 2 3 3 3 3 3 2 2 2\n",
        " 2 3 2 2 2 3 2 2 3 2 1 2 3 1 2 3 1 2 3 3 2 2 2 3 2 3 3 2 3 3 3 2 3 3 2 3 2\n",
        " 2 2 3 1 2 3 3 3 2 2 3 3 2 2 2 2 2 2 2 2 2 2 1 3 2 2 2 2 2 2 2 2 3 2 3 3 2\n",
        " 2 2 2 2 2 2 2 1 2 3 2 3 1 1 2 1 2 1 2 2 1 2 2 3 3 3 3 1 2 1 2 2 3 3 3 2 1\n",
        " 2 2 2 3 3 2 2 2 2 2 3 3 2 3 2 2 2 2 1 2 2 2 2 1 2 2 2 1 3 2 1 2 3 3 3 1 3\n",
        " 1 3 2 3 3 1 3 3 3 3 3 3 3 3 3 2 2 3 1 3 3 3 3 3 3 1 1 1 3 1 2 1 1 3 3 3 3\n",
        " 3 3 2 3 1 3 1 1 3 3 3 2 2 1 3 3 3 1 1 2 1 1 1 3 2 3 3 3 3 3 3 3 3 3 1 3 3\n",
        " 2 3 3 1 1 3 3 1 1 3 3 3 3 1 3 3 3 3 3 2 3 1 1 3 3 1 3 1 3 3 3 1 3 3 1 2 3\n",
        " 3 3 3 3 3 1 3 3 1 3 3 3 3 3 3 1 3 3 2 1 3 1 3 1 3 3 3 1 1 3 1 3 3 3 3 3 3\n",
        " 3 2 1 2 1 3 3 1 3 3 1 3 2 3 1 3 3 3 1 3 1 3 1 3 3 3 1 3 3 3 3 3 3 3 3 3 1\n",
        " 1 1 3 3 1 3 3 3 3 3 2 1 3 3 3 3 2 1 2 1 3 3 3 3 3 3 3 3 3 1 3 3 3 1 1 3 3\n",
        " 3 3 3 1 2 3 2 3 3 1 1 1 3 3 1 1 3 1 3 3 1 1 2 3 1 1 3 1 3 3 1 2 3 3 1 3 1\n",
        " 3 3 3 3 3 3 1 1 3 3 3 1 3 3 1 1 1 3 3 1 3 3 1 3 3 3 3 3 3 3 3 3 2 3 3 3 2\n",
        " 3 3 3 3 3 3 3 3 1 3 3 3 3 3 3 3 3 3 3 1 3 3 1 2 3 1 3 3 1 3 3 3 1 2 1 1 2\n",
        " 1 1 3 2 1 3 1 3 1 1 1 1 2 3 3 2 3 3 3 3 1 1 3 3 3 1 3 2 3 3 3 1 1 3 1 1 2\n",
        " 2 1 3 1 1 3 2 1 3 3 2 3 1 3 1 1 2 3 1 3 1 3 3 3 3 1 1 1 2 3 3 2 3 1 3 1 3\n",
        " 3 3 2 3 1 2 1 3 1 3 1 3 3 3 1 2 2 3 3 1 3 1 3 3 1 3 3 3 3 1 3 3 3 2 3 3 1\n",
        " 3 2 3 2 3 1 2 3 2 1 1 3 3 1 3 3 3 2 3 1 1 2 1 1 3 1]\n",
        "tr_X (8603, 14623)\n",
        "tr_Y (8603L,)\n",
        "tr_XU (80702, 14623)\n",
        "te_X (877, 14623)\n",
        "te_Y (877L,)\n"
       ]
      },
      {
       "output_type": "stream",
       "stream": "stderr",
       "text": [
        "Traceback (most recent call last):\n",
        "  File \"run_perceptron_2014_02_16.py\", line 149, in <module>\n",
        "    print_data(0)\n",
        "  File \"C:\\Users\\Willem\\SkyDrive\\Documents\\School\\SFU\\Research\\Kiri\\data_manager.py\", line 256, in get_data_only_random_dropout\n",
        "    return self.__get_data__(percent_dropout,num_dropout_corruptions_per_point,bool_targetted_dropout=True)\n",
        "TypeError: __get_data__() got multiple values for keyword argument 'bool_targetted_dropout'\n"
       ]
      }
     ],
     "prompt_number": 62
    },
    {
     "cell_type": "code",
     "collapsed": false,
     "input": [
      "import numpy as np\n",
      "from scipy import sparse\n",
      "A=np.ones((3,4))\n",
      "print A\n",
      "print A[:5]\n",
      "As = sparse.csr_matrix(A)\n",
      "print As\n",
      "print As[:5]"
     ],
     "language": "python",
     "metadata": {},
     "outputs": [
      {
       "ename": "IndexError",
       "evalue": "index out of bounds: 0 <= 0 <= 3, 0 <= 5 <= 3, 0 <= 5",
       "output_type": "pyerr",
       "traceback": [
        "\u001b[1;31m---------------------------------------------------------------------------\u001b[0m\n\u001b[1;31mIndexError\u001b[0m                                Traceback (most recent call last)",
        "\u001b[1;32m<ipython-input-68-55491efe1c43>\u001b[0m in \u001b[0;36m<module>\u001b[1;34m()\u001b[0m\n\u001b[0;32m      6\u001b[0m \u001b[0mAs\u001b[0m \u001b[1;33m=\u001b[0m \u001b[0msparse\u001b[0m\u001b[1;33m.\u001b[0m\u001b[0mcsr_matrix\u001b[0m\u001b[1;33m(\u001b[0m\u001b[0mA\u001b[0m\u001b[1;33m)\u001b[0m\u001b[1;33m\u001b[0m\u001b[0m\n\u001b[0;32m      7\u001b[0m \u001b[1;32mprint\u001b[0m \u001b[0mAs\u001b[0m\u001b[1;33m\u001b[0m\u001b[0m\n\u001b[1;32m----> 8\u001b[1;33m \u001b[1;32mprint\u001b[0m \u001b[0mAs\u001b[0m\u001b[1;33m[\u001b[0m\u001b[1;33m:\u001b[0m\u001b[1;36m5\u001b[0m\u001b[1;33m]\u001b[0m\u001b[1;33m\u001b[0m\u001b[0m\n\u001b[0m",
        "\u001b[1;32mC:\\Users\\Willem\\Anaconda\\lib\\site-packages\\scipy\\sparse\\csr.pyc\u001b[0m in \u001b[0;36m__getitem__\u001b[1;34m(self, key)\u001b[0m\n\u001b[0;32m    246\u001b[0m                      row.step in (1, None))):\n\u001b[0;32m    247\u001b[0m                 \u001b[1;31m# col is int or slice with step 1, row is slice with step 1.\u001b[0m\u001b[1;33m\u001b[0m\u001b[1;33m\u001b[0m\u001b[0m\n\u001b[1;32m--> 248\u001b[1;33m                 \u001b[1;32mreturn\u001b[0m \u001b[0mself\u001b[0m\u001b[1;33m.\u001b[0m\u001b[0m_get_submatrix\u001b[0m\u001b[1;33m(\u001b[0m\u001b[0mrow\u001b[0m\u001b[1;33m,\u001b[0m \u001b[0mcol\u001b[0m\u001b[1;33m)\u001b[0m\u001b[1;33m\u001b[0m\u001b[0m\n\u001b[0m\u001b[0;32m    249\u001b[0m             \u001b[1;32melif\u001b[0m \u001b[0missequence\u001b[0m\u001b[1;33m(\u001b[0m\u001b[0mcol\u001b[0m\u001b[1;33m)\u001b[0m\u001b[1;33m:\u001b[0m\u001b[1;33m\u001b[0m\u001b[0m\n\u001b[0;32m    250\u001b[0m                 \u001b[0mP\u001b[0m \u001b[1;33m=\u001b[0m \u001b[0mextractor\u001b[0m\u001b[1;33m(\u001b[0m\u001b[0mcol\u001b[0m\u001b[1;33m,\u001b[0m\u001b[0mself\u001b[0m\u001b[1;33m.\u001b[0m\u001b[0mshape\u001b[0m\u001b[1;33m[\u001b[0m\u001b[1;36m1\u001b[0m\u001b[1;33m]\u001b[0m\u001b[1;33m)\u001b[0m\u001b[1;33m.\u001b[0m\u001b[0mT\u001b[0m        \u001b[1;31m# [1:2,[1,2]]\u001b[0m\u001b[1;33m\u001b[0m\u001b[0m\n",
        "\u001b[1;32mC:\\Users\\Willem\\Anaconda\\lib\\site-packages\\scipy\\sparse\\csr.pyc\u001b[0m in \u001b[0;36m_get_submatrix\u001b[1;34m(self, row_slice, col_slice)\u001b[0m\n\u001b[0;32m    398\u001b[0m         \u001b[0mi0\u001b[0m\u001b[1;33m,\u001b[0m \u001b[0mi1\u001b[0m \u001b[1;33m=\u001b[0m \u001b[0mprocess_slice\u001b[0m\u001b[1;33m(\u001b[0m\u001b[0mrow_slice\u001b[0m\u001b[1;33m,\u001b[0m \u001b[0mM\u001b[0m\u001b[1;33m)\u001b[0m\u001b[1;33m\u001b[0m\u001b[0m\n\u001b[0;32m    399\u001b[0m         \u001b[0mj0\u001b[0m\u001b[1;33m,\u001b[0m \u001b[0mj1\u001b[0m \u001b[1;33m=\u001b[0m \u001b[0mprocess_slice\u001b[0m\u001b[1;33m(\u001b[0m\u001b[0mcol_slice\u001b[0m\u001b[1;33m,\u001b[0m \u001b[0mN\u001b[0m\u001b[1;33m)\u001b[0m\u001b[1;33m\u001b[0m\u001b[0m\n\u001b[1;32m--> 400\u001b[1;33m         \u001b[0mcheck_bounds\u001b[0m\u001b[1;33m(\u001b[0m\u001b[0mi0\u001b[0m\u001b[1;33m,\u001b[0m \u001b[0mi1\u001b[0m\u001b[1;33m,\u001b[0m \u001b[0mM\u001b[0m\u001b[1;33m)\u001b[0m\u001b[1;33m\u001b[0m\u001b[0m\n\u001b[0m\u001b[0;32m    401\u001b[0m         \u001b[0mcheck_bounds\u001b[0m\u001b[1;33m(\u001b[0m\u001b[0mj0\u001b[0m\u001b[1;33m,\u001b[0m \u001b[0mj1\u001b[0m\u001b[1;33m,\u001b[0m \u001b[0mN\u001b[0m\u001b[1;33m)\u001b[0m\u001b[1;33m\u001b[0m\u001b[0m\n\u001b[0;32m    402\u001b[0m \u001b[1;33m\u001b[0m\u001b[0m\n",
        "\u001b[1;32mC:\\Users\\Willem\\Anaconda\\lib\\site-packages\\scipy\\sparse\\csr.pyc\u001b[0m in \u001b[0;36mcheck_bounds\u001b[1;34m(i0, i1, num)\u001b[0m\n\u001b[0;32m    394\u001b[0m                       \u001b[1;34m\"index out of bounds: 0 <= %d <= %d, 0 <= %d <= %d,\"\u001b[0m\u001b[1;33m\u001b[0m\u001b[0m\n\u001b[0;32m    395\u001b[0m                        \u001b[1;34m\" %d <= %d\"\u001b[0m \u001b[1;33m%\u001b[0m\u001b[1;33m\u001b[0m\u001b[0m\n\u001b[1;32m--> 396\u001b[1;33m                       (i0, num, i1, num, i0, i1))\n\u001b[0m\u001b[0;32m    397\u001b[0m \u001b[1;33m\u001b[0m\u001b[0m\n\u001b[0;32m    398\u001b[0m         \u001b[0mi0\u001b[0m\u001b[1;33m,\u001b[0m \u001b[0mi1\u001b[0m \u001b[1;33m=\u001b[0m \u001b[0mprocess_slice\u001b[0m\u001b[1;33m(\u001b[0m\u001b[0mrow_slice\u001b[0m\u001b[1;33m,\u001b[0m \u001b[0mM\u001b[0m\u001b[1;33m)\u001b[0m\u001b[1;33m\u001b[0m\u001b[0m\n",
        "\u001b[1;31mIndexError\u001b[0m: index out of bounds: 0 <= 0 <= 3, 0 <= 5 <= 3, 0 <= 5"
       ]
      },
      {
       "output_type": "stream",
       "stream": "stdout",
       "text": [
        "[[ 1.  1.  1.  1.]\n",
        " [ 1.  1.  1.  1.]\n",
        " [ 1.  1.  1.  1.]]\n",
        "[[ 1.  1.  1.  1.]\n",
        " [ 1.  1.  1.  1.]\n",
        " [ 1.  1.  1.  1.]]\n",
        "  (0, 0)\t1.0\n",
        "  (0, 1)\t1.0\n",
        "  (0, 2)\t1.0\n",
        "  (0, 3)\t1.0\n",
        "  (1, 0)\t1.0\n",
        "  (1, 1)\t1.0\n",
        "  (1, 2)\t1.0\n",
        "  (1, 3)\t1.0\n",
        "  (2, 0)\t1.0\n",
        "  (2, 1)\t1.0\n",
        "  (2, 2)\t1.0\n",
        "  (2, 3)\t1.0\n"
       ]
      }
     ],
     "prompt_number": 68
    },
    {
     "cell_type": "raw",
     "metadata": {},
     "source": [
      "Conclusion: numpy handles slices that go out of bounds gracefully, sparse matrices do not."
     ]
    },
    {
     "cell_type": "code",
     "collapsed": false,
     "input": [
      "drs={.05,.1,.2,.3,.4,.5,.7,.8,.9}\n",
      "s=\"\".join(str(x) for x in drs)\n",
      "print s"
     ],
     "language": "python",
     "metadata": {},
     "outputs": [
      {
       "output_type": "stream",
       "stream": "stdout",
       "text": [
        "0.50.80.40.10.30.20.90.050.7\n"
       ]
      }
     ],
     "prompt_number": 70
    },
    {
     "cell_type": "code",
     "collapsed": false,
     "input": [
      "z=np.zeros((3,4))"
     ],
     "language": "python",
     "metadata": {},
     "outputs": [],
     "prompt_number": 72
    },
    {
     "cell_type": "code",
     "collapsed": false,
     "input": [
      "len(sp.csr_matrix(z))"
     ],
     "language": "python",
     "metadata": {},
     "outputs": [
      {
       "ename": "TypeError",
       "evalue": "sparse matrix length is ambiguous; use getnnz() or shape[0]",
       "output_type": "pyerr",
       "traceback": [
        "\u001b[1;31m---------------------------------------------------------------------------\u001b[0m\n\u001b[1;31mTypeError\u001b[0m                                 Traceback (most recent call last)",
        "\u001b[1;32m<ipython-input-75-8e2425ca9cbe>\u001b[0m in \u001b[0;36m<module>\u001b[1;34m()\u001b[0m\n\u001b[1;32m----> 1\u001b[1;33m \u001b[0mlen\u001b[0m\u001b[1;33m(\u001b[0m\u001b[0msp\u001b[0m\u001b[1;33m.\u001b[0m\u001b[0mcsr_matrix\u001b[0m\u001b[1;33m(\u001b[0m\u001b[0mz\u001b[0m\u001b[1;33m)\u001b[0m\u001b[1;33m)\u001b[0m\u001b[1;33m\u001b[0m\u001b[0m\n\u001b[0m",
        "\u001b[1;32mC:\\Users\\Willem\\Anaconda\\lib\\site-packages\\scipy\\sparse\\base.pyc\u001b[0m in \u001b[0;36m__len__\u001b[1;34m(self)\u001b[0m\n\u001b[0;32m    190\u001b[0m     \u001b[1;32mdef\u001b[0m \u001b[0m__len__\u001b[0m\u001b[1;33m(\u001b[0m\u001b[0mself\u001b[0m\u001b[1;33m)\u001b[0m\u001b[1;33m:\u001b[0m\u001b[1;33m\u001b[0m\u001b[0m\n\u001b[0;32m    191\u001b[0m         \u001b[1;31m# return self.getnnz()\u001b[0m\u001b[1;33m\u001b[0m\u001b[1;33m\u001b[0m\u001b[0m\n\u001b[1;32m--> 192\u001b[1;33m         raise TypeError(\"sparse matrix length is ambiguous; use getnnz()\"\n\u001b[0m\u001b[0;32m    193\u001b[0m                          \" or shape[0]\")\n\u001b[0;32m    194\u001b[0m \u001b[1;33m\u001b[0m\u001b[0m\n",
        "\u001b[1;31mTypeError\u001b[0m: sparse matrix length is ambiguous; use getnnz() or shape[0]"
       ]
      }
     ],
     "prompt_number": 75
    },
    {
     "cell_type": "code",
     "collapsed": false,
     "input": [
      "sp.getnnz(z)"
     ],
     "language": "python",
     "metadata": {},
     "outputs": [
      {
       "ename": "AttributeError",
       "evalue": "'module' object has no attribute 'getnnz'",
       "output_type": "pyerr",
       "traceback": [
        "\u001b[1;31m---------------------------------------------------------------------------\u001b[0m\n\u001b[1;31mAttributeError\u001b[0m                            Traceback (most recent call last)",
        "\u001b[1;32m<ipython-input-77-0dfb931426a4>\u001b[0m in \u001b[0;36m<module>\u001b[1;34m()\u001b[0m\n\u001b[1;32m----> 1\u001b[1;33m \u001b[0msp\u001b[0m\u001b[1;33m.\u001b[0m\u001b[0mgetnnz\u001b[0m\u001b[1;33m(\u001b[0m\u001b[0mz\u001b[0m\u001b[1;33m)\u001b[0m\u001b[1;33m\u001b[0m\u001b[0m\n\u001b[0m",
        "\u001b[1;31mAttributeError\u001b[0m: 'module' object has no attribute 'getnnz'"
       ]
      }
     ],
     "prompt_number": 77
    },
    {
     "cell_type": "code",
     "collapsed": false,
     "input": [
      "scipy.sparse.getnnz? "
     ],
     "language": "python",
     "metadata": {},
     "outputs": [
      {
       "ename": "SyntaxError",
       "evalue": "invalid syntax (<ipython-input-79-c12f6948d4bc>, line 1)",
       "output_type": "pyerr",
       "traceback": [
        "\u001b[1;36m  File \u001b[1;32m\"<ipython-input-79-c12f6948d4bc>\"\u001b[1;36m, line \u001b[1;32m1\u001b[0m\n\u001b[1;33m    scipy.sparse.getnnz?\u001b[0m\n\u001b[1;37m                       ^\u001b[0m\n\u001b[1;31mSyntaxError\u001b[0m\u001b[1;31m:\u001b[0m invalid syntax\n"
       ]
      }
     ],
     "prompt_number": 79
    },
    {
     "cell_type": "code",
     "collapsed": false,
     "input": [
      "len(z.nonzero()[0])"
     ],
     "language": "python",
     "metadata": {},
     "outputs": [
      {
       "metadata": {},
       "output_type": "pyout",
       "prompt_number": 80,
       "text": [
        "0"
       ]
      }
     ],
     "prompt_number": 80
    },
    {
     "cell_type": "code",
     "collapsed": false,
     "input": [
      "np.random.select?"
     ],
     "language": "python",
     "metadata": {},
     "outputs": [
      {
       "output_type": "stream",
       "stream": "stdout",
       "text": [
        "Object `np.random.select` not found.\n"
       ]
      }
     ],
     "prompt_number": 82
    },
    {
     "cell_type": "code",
     "collapsed": false,
     "input": [
      "np.random?"
     ],
     "language": "python",
     "metadata": {},
     "outputs": [],
     "prompt_number": 84
    },
    {
     "cell_type": "code",
     "collapsed": false,
     "input": [
      "np.random.permutation(500)"
     ],
     "language": "python",
     "metadata": {},
     "outputs": [
      {
       "metadata": {},
       "output_type": "pyout",
       "prompt_number": 86,
       "text": [
        "array([ 53, 261,  63, 264, 308,  44, 485, 297, 214, 239, 247,   1, 314,\n",
        "       361, 121, 173, 108, 475,  85, 398,  27, 142, 497, 139, 326, 189,\n",
        "        18, 307, 476, 411, 465, 432, 418,  86, 401, 419, 395, 160, 122,\n",
        "       203,  75, 312, 367,  14,  15, 215, 223, 294, 299, 444, 365, 425,\n",
        "       491, 134, 137,  51, 407, 413, 317, 311, 256,  45,  31, 244,  25,\n",
        "       209, 423, 176,  55, 433,  57, 339, 295, 103, 430, 454, 358, 406,\n",
        "       277,  77, 402, 278,  24, 320, 424, 196, 205, 371, 349,  88, 434,\n",
        "        97, 248, 136, 227, 141, 470, 183, 283, 478, 327, 436,   2, 427,\n",
        "       192, 499, 315, 439, 305, 495, 200,  26, 393, 347, 273, 386, 168,\n",
        "       399, 130, 309, 286,  69, 417,  43, 166, 287, 394,  41, 298,  89,\n",
        "       111, 488, 369, 292, 460,  65, 342,  16, 126,  94,  29, 323, 249,\n",
        "       253, 270,  60, 310, 212, 106, 453,   4, 269, 175, 230, 228, 129,\n",
        "       255, 368, 296,   8, 107,  19, 101, 279, 441, 422, 282, 245, 351,\n",
        "       300, 163, 435,  54,  34, 232,  30, 414,  11, 481, 428, 469, 216,\n",
        "       251,  98,  22,   7, 364,  91,  23, 202, 492, 382, 132, 384, 479,\n",
        "       190, 403, 185, 117, 145, 429, 468, 459,  56, 272, 343, 201, 471,\n",
        "       144,  67,  61, 445, 455, 207, 373, 362,  80, 377, 381, 259, 226,\n",
        "       252, 204, 359,   5, 378,  83,  36, 431, 147, 150, 231, 330, 275,\n",
        "       366, 482, 372, 303, 267,  32, 340, 240,  96,  95, 113,  59,  37,\n",
        "       426, 191, 143, 409, 158, 154,  40, 352, 331, 280, 213, 291, 236,\n",
        "       447, 316,  13, 467, 149, 355, 408,  62,  79, 193, 380, 181, 421,\n",
        "       370,   9, 376, 438, 484, 335, 262,   6, 266, 257,  38, 151,  33,\n",
        "       354, 271, 140, 324, 194, 328, 128, 374, 457, 341, 404,  50, 162,\n",
        "       489, 319, 437,   0, 410, 474, 172, 195, 360, 420, 451, 123, 234,\n",
        "        39, 274, 412, 156, 222, 276, 210, 306, 217,  99, 289, 167, 225,\n",
        "       104, 375,  10, 105,  68,  90, 440, 477, 258, 265, 446, 304, 180,\n",
        "        28,  42, 208,  20, 466,  84, 486, 461, 285, 416,  71,  49, 179,\n",
        "       442, 356, 116, 293,  76,  48, 449, 263, 260, 146,  73, 332,  64,\n",
        "       110,  52, 363, 483, 124,  87, 450, 462, 288, 302, 118,  12, 157,\n",
        "       337, 127,  46, 235, 135, 241, 353, 480, 498, 177,  58, 164, 325,\n",
        "       131, 152, 350, 397,  17, 388, 186, 443, 338, 206, 473, 387, 345,\n",
        "       313, 242, 472, 170, 187,  47, 133, 301, 199,  72, 318,  78,  74,\n",
        "       346, 396, 198, 389, 385, 383, 458, 119, 153, 400, 490,  21, 281,\n",
        "       254, 392, 250, 243, 237,  35,  81, 159, 405, 333, 182, 487, 329,\n",
        "       109, 464, 379, 357, 102,  92, 494, 452, 115, 284, 390, 148,  70,\n",
        "       463, 211, 171, 165, 238, 188,   3, 290, 344, 197, 448, 496, 120,\n",
        "       184, 155, 218, 112, 138, 125, 456,  66, 336, 233, 224, 268, 161,\n",
        "       493,  93, 174, 178, 221, 415, 100, 246, 219, 229, 334, 348, 114,\n",
        "       322, 169, 321, 220, 391,  82])"
       ]
      }
     ],
     "prompt_number": 86
    },
    {
     "cell_type": "code",
     "collapsed": false,
     "input": [
      "M=(np.random.random((4,5))>.8)*1"
     ],
     "language": "python",
     "metadata": {},
     "outputs": [],
     "prompt_number": 92
    },
    {
     "cell_type": "code",
     "collapsed": false,
     "input": [
      "mcsr=sp.csr_matrix(M)\n",
      "print mcsr\n",
      "for x in mcsr:\n",
      "    print 'x'\n",
      "    print x"
     ],
     "language": "python",
     "metadata": {},
     "outputs": [
      {
       "output_type": "stream",
       "stream": "stdout",
       "text": [
        "  (0, 3)\t1\n",
        "  (1, 2)\t1\n",
        "  (2, 2)\t1\n",
        "  (3, 0)\t1\n",
        "  (3, 4)\t1\n",
        "x\n",
        "  (0, 3)\t1\n",
        "x\n",
        "  (0, 2)\t1\n",
        "x\n",
        "  (0, 2)\t1\n",
        "x\n",
        "  (0, 0)\t1\n",
        "  (0, 4)\t1\n"
       ]
      }
     ],
     "prompt_number": 99
    },
    {
     "cell_type": "code",
     "collapsed": false,
     "input": [
      "mcoo=sp.coo_matrix(M)\n",
      "print \"mcoo\"\n",
      "print mcoo\n",
      "# for x in mcoo.data:\n",
      "#     print 'x'\n",
      "#     print x\n",
      "\n",
      "mcoo.data+=mcoo.row\n",
      "print \"mcoo\"\n",
      "print mcoo\n",
      "# mcoo.eliminate_zeros()\n",
      "# print mcoo\n",
      "mcoo.data*=(np.random.random(len(mcoo.data))>.3)\n",
      "print \"mcoo\"\n",
      "print mcoo\n",
      "mcsr=sp.csr_matrix(mcoo)\n",
      "mcsr.eliminate_zeros()\n",
      "print \"mcsr\"\n",
      "print mcsr\n",
      "# for x in mcoo.data:\n",
      "#     print 'x'\n",
      "#     print x\n",
      "#     x+=1"
     ],
     "language": "python",
     "metadata": {},
     "outputs": [
      {
       "output_type": "stream",
       "stream": "stdout",
       "text": [
        "mcoo\n",
        "  (0, 3)\t1\n",
        "  (1, 2)\t1\n",
        "  (2, 2)\t1\n",
        "  (3, 0)\t1\n",
        "  (3, 4)\t1\n",
        "mcoo\n",
        "  (0, 3)\t1\n",
        "  (1, 2)\t2\n",
        "  (2, 2)\t3\n",
        "  (3, 0)\t4\n",
        "  (3, 4)\t4\n",
        "mcoo\n",
        "  (0, 3)\t1\n",
        "  (1, 2)\t0\n",
        "  (2, 2)\t0\n",
        "  (3, 0)\t0\n",
        "  (3, 4)\t4\n",
        "mcsr\n",
        "  (0, 3)\t1\n",
        "  (3, 4)\t4\n"
       ]
      }
     ],
     "prompt_number": 109
    },
    {
     "cell_type": "code",
     "collapsed": false,
     "input": [
      "d={1:3,6:3,5:7}\n",
      "print d\n",
      "print sorted(d)"
     ],
     "language": "python",
     "metadata": {},
     "outputs": [
      {
       "output_type": "stream",
       "stream": "stdout",
       "text": [
        "{1: 3, 5: 7, 6: 3}\n",
        "[1, 5, 6]\n"
       ]
      }
     ],
     "prompt_number": 110
    },
    {
     "cell_type": "code",
     "collapsed": false,
     "input": [
      "np.ones(3,int).dtype"
     ],
     "language": "python",
     "metadata": {},
     "outputs": [
      {
       "metadata": {},
       "output_type": "pyout",
       "prompt_number": 112,
       "text": [
        "dtype('int32')"
       ]
      }
     ],
     "prompt_number": 112
    },
    {
     "cell_type": "code",
     "collapsed": false,
     "input": [
      "r=np.arange(8)\n",
      "r"
     ],
     "language": "python",
     "metadata": {},
     "outputs": [
      {
       "metadata": {},
       "output_type": "pyout",
       "prompt_number": 114,
       "text": [
        "array([0, 1, 2, 3, 4, 5, 6, 7])"
       ]
      }
     ],
     "prompt_number": 114
    },
    {
     "cell_type": "code",
     "collapsed": false,
     "input": [
      "r[r%2!=0]*=2\n",
      "r"
     ],
     "language": "python",
     "metadata": {},
     "outputs": [
      {
       "metadata": {},
       "output_type": "pyout",
       "prompt_number": 116,
       "text": [
        "array([ 0,  2,  2,  6,  4, 10,  6, 14])"
       ]
      }
     ],
     "prompt_number": 116
    },
    {
     "cell_type": "code",
     "collapsed": false,
     "input": [
      "r[r%3==0]=np.ones(3)\n",
      "r"
     ],
     "language": "python",
     "metadata": {},
     "outputs": [
      {
       "ename": "ValueError",
       "evalue": "NumPy boolean array indexing assignment cannot assign 3 input values to the 0 output values where the mask is true",
       "output_type": "pyerr",
       "traceback": [
        "\u001b[1;31m---------------------------------------------------------------------------\u001b[0m\n\u001b[1;31mValueError\u001b[0m                                Traceback (most recent call last)",
        "\u001b[1;32m<ipython-input-119-c941484d1ca2>\u001b[0m in \u001b[0;36m<module>\u001b[1;34m()\u001b[0m\n\u001b[1;32m----> 1\u001b[1;33m \u001b[0mr\u001b[0m\u001b[1;33m[\u001b[0m\u001b[0mr\u001b[0m\u001b[1;33m%\u001b[0m\u001b[1;36m3\u001b[0m\u001b[1;33m==\u001b[0m\u001b[1;36m0\u001b[0m\u001b[1;33m]\u001b[0m\u001b[1;33m=\u001b[0m\u001b[0mnp\u001b[0m\u001b[1;33m.\u001b[0m\u001b[0mones\u001b[0m\u001b[1;33m(\u001b[0m\u001b[1;36m3\u001b[0m\u001b[1;33m)\u001b[0m\u001b[1;33m\u001b[0m\u001b[0m\n\u001b[0m\u001b[0;32m      2\u001b[0m \u001b[0mr\u001b[0m\u001b[1;33m\u001b[0m\u001b[0m\n",
        "\u001b[1;31mValueError\u001b[0m: NumPy boolean array indexing assignment cannot assign 3 input values to the 0 output values where the mask is true"
       ]
      }
     ],
     "prompt_number": 119
    },
    {
     "cell_type": "code",
     "collapsed": false,
     "input": [
      "r"
     ],
     "language": "python",
     "metadata": {},
     "outputs": [
      {
       "metadata": {},
       "output_type": "pyout",
       "prompt_number": 120,
       "text": [
        "array([ 1,  2,  2,  1,  4, 10,  1, 14])"
       ]
      }
     ],
     "prompt_number": 120
    },
    {
     "cell_type": "code",
     "collapsed": false,
     "input": [
      "import misc\n",
      "(train_X,train_Y),(test_X,test_Y)=\\\n",
      "\t\tmisc.create_synthetic_data(\tnum_labels=3,\\\n",
      "\t\t\t\t\t\t\t\t\tnum_train=10,\\\n",
      "\t\t\t\t\t\t\t\t\tnum_feats=10,\\\n",
      "\t\t\t\t\t\t\t\t\tfrac_labelled=1,\\\n",
      "\t\t\t\t\t\t\t\t\tnum_test=5,\\\n",
      "\t\t\t\t\t\t\t\t\tsparsity=2,\\\n",
      "\t\t\t\t\t\t\t\t\tskew=2,\\\n",
      "\t\t\t\t\t\t\t\t\trand_seed=0)\n",
      "misc.print_labels_1_feats(train_X,train_Y)\n",
      "misc.print_labels_1_feats(test_X,test_Y)"
     ],
     "language": "python",
     "metadata": {},
     "outputs": [
      {
       "output_type": "stream",
       "stream": "stdout",
       "text": [
        "train labels | features\n",
        "[[ 3.  1.  1.  1.  0.  1.  0.  1.  0.  1.  0.  0.]\n",
        " [ 1.  1.  0.  1.  1.  1.  0.  1.  0.  1.  1.  1.]\n",
        " [ 2.  1.  0.  1.  0.  1.  0.  0.  0.  1.  1.  1.]\n",
        " [ 2.  1.  1.  1.  1.  1.  0.  0.  0.  1.  1.  1.]\n",
        " [ 2.  1.  1.  0.  1.  1.  0.  0.  0.  1.  1.  1.]\n",
        " [ 2.  1.  0.  1.  0.  1.  0.  0.  0.  1.  1.  1.]\n",
        " [ 3.  1.  1.  0.  0.  0.  0.  1.  0.  1.  0.  0.]\n",
        " [ 3.  1.  1.  0.  0.  1.  0.  0.  0.  1.  1.  0.]\n",
        " [ 3.  1.  1.  1.  0.  1.  0.  1.  0.  1.  0.  0.]\n",
        " [ 1.  1.  0.  1.  0.  0.  0.  0.  0.  1.  1.  0.]]\n",
        "train labels | features\n",
        "[[ 3.  1.  1.  1.  0.  1.  0.  0.  0.  1.  1.  0.]\n",
        " [ 3.  1.  1.  0.  0.  0.  0.  1.  0.  1.  1.  0.]\n",
        " [ 2.  1.  1.  1.  1.  1.  0.  0.  0.  0.  1.  1.]\n",
        " [ 2.  1.  1.  0.  1.  0.  0.  0.  0.  0.  1.  1.]\n",
        " [ 1.  1.  1.  1.  0.  0.  0.  1.  0.  1.  1.  0.]]\n"
       ]
      }
     ],
     "prompt_number": 121
    },
    {
     "cell_type": "code",
     "collapsed": false,
     "input": [
      "from sklearn import linear_model\n",
      "p = linear_model.Perceptron()\n",
      "p.fit(train_X,train_Y)\n",
      "l=p.predict(train_X)\n",
      "df= p.decision_function(train_X)\n",
      "print l\n",
      "print df"
     ],
     "language": "python",
     "metadata": {},
     "outputs": [
      {
       "output_type": "stream",
       "stream": "stdout",
       "text": [
        "[3 1 2 1 1 2 3 3 3 1]\n",
        "[[-3. -7.  3.]\n",
        " [ 2.  0. -6.]\n",
        " [-2.  2. -5.]\n",
        " [-1. -1. -4.]\n",
        " [-2. -2. -2.]\n",
        " [-2.  2. -5.]\n",
        " [-1. -9.  4.]\n",
        " [-3. -7.  2.]\n",
        " [-3. -7.  3.]\n",
        " [ 3. -4. -4.]]\n"
       ]
      }
     ],
     "prompt_number": 123
    },
    {
     "cell_type": "code",
     "collapsed": false,
     "input": [
      "dfm=df.copy()\n",
      "lm=dfm.argmax(axis=1)+1\n",
      "print lm\n",
      "c1=dfm[np.arange(len(lm)),lm-1]\n",
      "print c1\n",
      "dfm[np.arange(len(lm)),lm-1]=-100\n",
      "l2m=dfm.argmax(axis=1)+1\n",
      "c2=dfm[np.arange(len(lm)),l2m-1]\n",
      "c=c1-c2\n",
      "print \"The confidences are:\", c"
     ],
     "language": "python",
     "metadata": {},
     "outputs": [
      {
       "output_type": "stream",
       "stream": "stdout",
       "text": [
        "[3 1 2 1 1 2 3 3 3 1]\n",
        "[ 3.  2.  2. -1. -2.  2.  4.  2.  3.  3.]\n",
        "The confidences are: [ 6.  2.  4.  0.  0.  4.  5.  5.  6.  7.]\n"
       ]
      }
     ],
     "prompt_number": 127
    },
    {
     "cell_type": "code",
     "collapsed": false,
     "input": [
      "def predict_labels_and_confidences(X):\n",
      "    \"\"\"TODO\"\"\"\t\t\n",
      "    n=X.shape[0]\n",
      "    scores=p.decision_function(X)\n",
      "    assert scores.shape[0]==n\n",
      "    ind1=scores.argmax(axis=1)\n",
      "    label = ind1+1\n",
      "    c1==scores[np.arange(n),ind1]\n",
      "    print \"scores\", scores\n",
      "    scores[np.arange(n),ind1]=-100\n",
      "    ind2=scores.argmax(axis=1)\n",
      "    c2==scores[np.arange(n),ind2]\n",
      "    confidence = c2-c1\n",
      "    def print_stuff():\n",
      "        print \"x\", X\n",
      "        print \"scores\", scores\n",
      "        print \"ind1\", ind1\n",
      "        print \"ind2\", ind2\n",
      "        print \"label\", label\t\t\n",
      "        print \"confidence\",confidence\n",
      "        print \"p.predict(x)\",p.predict(X)\n",
      "\n",
      "    print_stuff()\n",
      "    assert all(label == p.predict(X))\n",
      "    return (label, confidence)\n",
      "predict_labels_and_confidences(train_X)"
     ],
     "language": "python",
     "metadata": {},
     "outputs": [
      {
       "ename": "AssertionError",
       "evalue": "",
       "output_type": "pyerr",
       "traceback": [
        "\u001b[1;31m---------------------------------------------------------------------------\u001b[0m\n\u001b[1;31mAssertionError\u001b[0m                            Traceback (most recent call last)",
        "\u001b[1;32m<ipython-input-130-d12be66ff593>\u001b[0m in \u001b[0;36m<module>\u001b[1;34m()\u001b[0m\n\u001b[0;32m     24\u001b[0m     \u001b[1;32massert\u001b[0m \u001b[0mall\u001b[0m\u001b[1;33m(\u001b[0m\u001b[0mlabel\u001b[0m \u001b[1;33m==\u001b[0m \u001b[0mp\u001b[0m\u001b[1;33m.\u001b[0m\u001b[0mpredict\u001b[0m\u001b[1;33m(\u001b[0m\u001b[0mX\u001b[0m\u001b[1;33m)\u001b[0m\u001b[1;33m)\u001b[0m\u001b[1;33m\u001b[0m\u001b[0m\n\u001b[0;32m     25\u001b[0m     \u001b[1;32mreturn\u001b[0m \u001b[1;33m(\u001b[0m\u001b[0mlabel\u001b[0m\u001b[1;33m,\u001b[0m \u001b[0mconfidence\u001b[0m\u001b[1;33m)\u001b[0m\u001b[1;33m\u001b[0m\u001b[0m\n\u001b[1;32m---> 26\u001b[1;33m \u001b[0mpredict_labels_and_confidences\u001b[0m\u001b[1;33m(\u001b[0m\u001b[0mtrain_X\u001b[0m\u001b[1;33m)\u001b[0m\u001b[1;33m\u001b[0m\u001b[0m\n\u001b[0m",
        "\u001b[1;32m<ipython-input-130-d12be66ff593>\u001b[0m in \u001b[0;36mpredict_labels_and_confidences\u001b[1;34m(X)\u001b[0m\n\u001b[0;32m     22\u001b[0m \u001b[1;33m\u001b[0m\u001b[0m\n\u001b[0;32m     23\u001b[0m     \u001b[0mprint_stuff\u001b[0m\u001b[1;33m(\u001b[0m\u001b[1;33m)\u001b[0m\u001b[1;33m\u001b[0m\u001b[0m\n\u001b[1;32m---> 24\u001b[1;33m     \u001b[1;32massert\u001b[0m \u001b[0mall\u001b[0m\u001b[1;33m(\u001b[0m\u001b[0mlabel\u001b[0m \u001b[1;33m==\u001b[0m \u001b[0mp\u001b[0m\u001b[1;33m.\u001b[0m\u001b[0mpredict\u001b[0m\u001b[1;33m(\u001b[0m\u001b[0mX\u001b[0m\u001b[1;33m)\u001b[0m\u001b[1;33m)\u001b[0m\u001b[1;33m\u001b[0m\u001b[0m\n\u001b[0m\u001b[0;32m     25\u001b[0m     \u001b[1;32mreturn\u001b[0m \u001b[1;33m(\u001b[0m\u001b[0mlabel\u001b[0m\u001b[1;33m,\u001b[0m \u001b[0mconfidence\u001b[0m\u001b[1;33m)\u001b[0m\u001b[1;33m\u001b[0m\u001b[0m\n\u001b[0;32m     26\u001b[0m \u001b[0mpredict_labels_and_confidences\u001b[0m\u001b[1;33m(\u001b[0m\u001b[0mtrain_X\u001b[0m\u001b[1;33m)\u001b[0m\u001b[1;33m\u001b[0m\u001b[0m\n",
        "\u001b[1;31mAssertionError\u001b[0m: "
       ]
      },
      {
       "output_type": "stream",
       "stream": "stdout",
       "text": [
        "scores [[-3. -7.  3.]\n",
        " [ 2.  0. -6.]\n",
        " [-2.  2. -5.]\n",
        " [-1. -1. -4.]\n",
        " [-2. -2. -2.]\n",
        " [-2.  2. -5.]\n",
        " [-1. -9.  4.]\n",
        " [-3. -7.  2.]\n",
        " [-3. -7.  3.]\n",
        " [ 3. -4. -4.]]\n",
        "x [[1 1 0 1 0 1 0 1 0 0]\n",
        " [0 1 1 1 0 1 0 1 1 1]\n",
        " [0 1 0 1 0 0 0 1 1 1]\n",
        " [1 1 1 1 0 0 0 1 1 1]\n",
        " [1 0 1 1 0 0 0 1 1 1]\n",
        " [0 1 0 1 0 0 0 1 1 1]\n",
        " [1 0 0 0 0 1 0 1 0 0]\n",
        " [1 0 0 1 0 0 0 1 1 0]\n",
        " [1 1 0 1 0 1 0 1 0 0]\n",
        " [0 1 0 0 0 0 0 1 1 0]]\n",
        "scores [[  -3.   -7. -100.]\n",
        " [-100.    0.   -6.]\n",
        " [  -2. -100.   -5.]\n",
        " [-100.   -1.   -4.]\n",
        " [-100.   -2.   -2.]\n",
        " [  -2. -100.   -5.]\n",
        " [  -1.   -9. -100.]\n",
        " [  -3.   -7. -100.]\n",
        " [  -3.   -7. -100.]\n",
        " [-100.   -4.   -4.]]\n",
        "ind1 [2 0 1 0 0 1 2 2 2 0]\n",
        "ind2 [0 1 0 1 1 0 0 0 0 1]\n",
        "label 1\n",
        "confidence [-6. -2. -4.  0.  0. -4. -5. -5. -6. -7.]\n",
        "p.predict(x) [3 1 2 1 1 2 3 3 3 1]\n"
       ]
      }
     ],
     "prompt_number": 130
    },
    {
     "cell_type": "code",
     "collapsed": false,
     "input": [],
     "language": "python",
     "metadata": {},
     "outputs": []
    }
   ],
   "metadata": {}
  }
 ]
}