{
 "metadata": {
  "name": ""
 },
 "nbformat": 3,
 "nbformat_minor": 0,
 "worksheets": [
  {
   "cells": [
    {
     "cell_type": "code",
     "collapsed": false,
     "input": [
      "f=lambda :[]"
     ],
     "language": "python",
     "metadata": {},
     "outputs": [],
     "prompt_number": 1
    },
    {
     "cell_type": "code",
     "collapsed": false,
     "input": [
      "A=f()"
     ],
     "language": "python",
     "metadata": {},
     "outputs": [],
     "prompt_number": 2
    },
    {
     "cell_type": "code",
     "collapsed": false,
     "input": [
      "A"
     ],
     "language": "python",
     "metadata": {},
     "outputs": [
      {
       "metadata": {},
       "output_type": "pyout",
       "prompt_number": 3,
       "text": [
        "[]"
       ]
      }
     ],
     "prompt_number": 3
    },
    {
     "cell_type": "heading",
     "level": 3,
     "metadata": {},
     "source": [
      "How to extract the biggest and second biggest from each row as column vectors?"
     ]
    },
    {
     "cell_type": "code",
     "collapsed": false,
     "input": [
      "import numpy as np\n",
      "M=np.random.rand(6,3)\n",
      "print M"
     ],
     "language": "python",
     "metadata": {},
     "outputs": [
      {
       "output_type": "stream",
       "stream": "stdout",
       "text": [
        "[[ 0.72669755  0.4996634   0.23974728]\n",
        " [ 0.98985045  0.97103978  0.42634707]\n",
        " [ 0.68524994  0.56227255  0.01047781]\n",
        " [ 0.71112649  0.24828259  0.47919429]\n",
        " [ 0.52433956  0.64643059  0.35378217]\n",
        " [ 0.30413524  0.16931432  0.30500974]]\n"
       ]
      }
     ],
     "prompt_number": 4
    },
    {
     "cell_type": "code",
     "collapsed": false,
     "input": [
      "ind=M.argsort(axis=1)\n",
      "print ind"
     ],
     "language": "python",
     "metadata": {},
     "outputs": [
      {
       "output_type": "stream",
       "stream": "stdout",
       "text": [
        "[[2 1 0]\n",
        " [2 1 0]\n",
        " [2 1 0]\n",
        " [1 2 0]\n",
        " [2 0 1]\n",
        " [1 0 2]]\n"
       ]
      }
     ],
     "prompt_number": 7
    },
    {
     "cell_type": "code",
     "collapsed": false,
     "input": [
      "biggest=M[np.arange(6),ind[:,-1]]\n",
      "print biggest\n",
      "\n",
      "#print \"max\"\n",
      "#print M.max(axis=1)"
     ],
     "language": "python",
     "metadata": {},
     "outputs": [
      {
       "output_type": "stream",
       "stream": "stdout",
       "text": [
        "[ 0.72669755  0.98985045  0.68524994  0.71112649  0.64643059  0.30500974]\n"
       ]
      }
     ],
     "prompt_number": 11
    },
    {
     "cell_type": "code",
     "collapsed": false,
     "input": [
      "import random\n",
      "[random.randint(1,5) for i in range(100)]"
     ],
     "language": "python",
     "metadata": {},
     "outputs": [
      {
       "metadata": {},
       "output_type": "pyout",
       "prompt_number": 17,
       "text": [
        "[1,\n",
        " 5,\n",
        " 2,\n",
        " 3,\n",
        " 3,\n",
        " 1,\n",
        " 1,\n",
        " 1,\n",
        " 5,\n",
        " 1,\n",
        " 3,\n",
        " 2,\n",
        " 1,\n",
        " 2,\n",
        " 3,\n",
        " 1,\n",
        " 4,\n",
        " 2,\n",
        " 2,\n",
        " 3,\n",
        " 2,\n",
        " 1,\n",
        " 2,\n",
        " 1,\n",
        " 2,\n",
        " 3,\n",
        " 2,\n",
        " 5,\n",
        " 5,\n",
        " 2,\n",
        " 5,\n",
        " 3,\n",
        " 1,\n",
        " 2,\n",
        " 3,\n",
        " 4,\n",
        " 4,\n",
        " 2,\n",
        " 4,\n",
        " 2,\n",
        " 3,\n",
        " 3,\n",
        " 3,\n",
        " 2,\n",
        " 4,\n",
        " 5,\n",
        " 5,\n",
        " 1,\n",
        " 1,\n",
        " 3,\n",
        " 2,\n",
        " 1,\n",
        " 4,\n",
        " 5,\n",
        " 3,\n",
        " 2,\n",
        " 1,\n",
        " 2,\n",
        " 4,\n",
        " 3,\n",
        " 3,\n",
        " 2,\n",
        " 1,\n",
        " 2,\n",
        " 3,\n",
        " 4,\n",
        " 3,\n",
        " 4,\n",
        " 4,\n",
        " 3,\n",
        " 3,\n",
        " 3,\n",
        " 3,\n",
        " 5,\n",
        " 4,\n",
        " 5,\n",
        " 2,\n",
        " 3,\n",
        " 1,\n",
        " 4,\n",
        " 2,\n",
        " 1,\n",
        " 2,\n",
        " 3,\n",
        " 5,\n",
        " 3,\n",
        " 1,\n",
        " 5,\n",
        " 3,\n",
        " 4,\n",
        " 5,\n",
        " 4,\n",
        " 3,\n",
        " 4,\n",
        " 3,\n",
        " 1,\n",
        " 1,\n",
        " 4,\n",
        " 3,\n",
        " 4]"
       ]
      }
     ],
     "prompt_number": 17
    },
    {
     "cell_type": "code",
     "collapsed": false,
     "input": [],
     "language": "python",
     "metadata": {},
     "outputs": []
    }
   ],
   "metadata": {}
  }
 ]
}