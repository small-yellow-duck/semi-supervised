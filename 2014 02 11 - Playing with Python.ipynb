{
 "metadata": {
  "name": ""
 },
 "nbformat": 3,
 "nbformat_minor": 0,
 "worksheets": [
  {
   "cells": [
    {
     "cell_type": "code",
     "collapsed": false,
     "input": [
      "f=lambda :[]"
     ],
     "language": "python",
     "metadata": {},
     "outputs": [],
     "prompt_number": 1
    },
    {
     "cell_type": "code",
     "collapsed": false,
     "input": [
      "A=f()"
     ],
     "language": "python",
     "metadata": {},
     "outputs": [],
     "prompt_number": 2
    },
    {
     "cell_type": "code",
     "collapsed": false,
     "input": [
      "A"
     ],
     "language": "python",
     "metadata": {},
     "outputs": [
      {
       "metadata": {},
       "output_type": "pyout",
       "prompt_number": 3,
       "text": [
        "[]"
       ]
      }
     ],
     "prompt_number": 3
    },
    {
     "cell_type": "heading",
     "level": 3,
     "metadata": {},
     "source": [
      "How to extract the biggest and second biggest from each row as column vectors?"
     ]
    },
    {
     "cell_type": "code",
     "collapsed": false,
     "input": [
      "import numpy as np\n",
      "M=np.random.rand(6,3)\n",
      "print M"
     ],
     "language": "python",
     "metadata": {},
     "outputs": [
      {
       "output_type": "stream",
       "stream": "stdout",
       "text": [
        "[[ 0.72669755  0.4996634   0.23974728]\n",
        " [ 0.98985045  0.97103978  0.42634707]\n",
        " [ 0.68524994  0.56227255  0.01047781]\n",
        " [ 0.71112649  0.24828259  0.47919429]\n",
        " [ 0.52433956  0.64643059  0.35378217]\n",
        " [ 0.30413524  0.16931432  0.30500974]]\n"
       ]
      }
     ],
     "prompt_number": 4
    },
    {
     "cell_type": "code",
     "collapsed": false,
     "input": [
      "ind=M.argsort(axis=1)\n",
      "print ind"
     ],
     "language": "python",
     "metadata": {},
     "outputs": [
      {
       "output_type": "stream",
       "stream": "stdout",
       "text": [
        "[[2 1 0]\n",
        " [2 1 0]\n",
        " [2 1 0]\n",
        " [1 2 0]\n",
        " [2 0 1]\n",
        " [1 0 2]]\n"
       ]
      }
     ],
     "prompt_number": 7
    },
    {
     "cell_type": "code",
     "collapsed": false,
     "input": [
      "biggest=M[np.arange(6),ind[:,-1]]\n",
      "print biggest\n",
      "\n",
      "#print \"max\"\n",
      "#print M.max(axis=1)"
     ],
     "language": "python",
     "metadata": {},
     "outputs": [
      {
       "output_type": "stream",
       "stream": "stdout",
       "text": [
        "[ 0.72669755  0.98985045  0.68524994  0.71112649  0.64643059  0.30500974]\n"
       ]
      }
     ],
     "prompt_number": 11
    },
    {
     "cell_type": "code",
     "collapsed": false,
     "input": [
      "import random\n",
      "[random.randint(1,5) for i in range(10)]"
     ],
     "language": "python",
     "metadata": {},
     "outputs": [
      {
       "metadata": {},
       "output_type": "pyout",
       "prompt_number": 1,
       "text": [
        "[3, 1, 5, 1, 2, 4, 5, 3, 1, 1]"
       ]
      }
     ],
     "prompt_number": 1
    },
    {
     "cell_type": "code",
     "collapsed": false,
     "input": [
      "\"dkosf\"*True"
     ],
     "language": "python",
     "metadata": {},
     "outputs": [
      {
       "metadata": {},
       "output_type": "pyout",
       "prompt_number": 2,
       "text": [
        "'dkosf'"
       ]
      }
     ],
     "prompt_number": 2
    },
    {
     "cell_type": "code",
     "collapsed": false,
     "input": [
      "\"dkosf\"*False"
     ],
     "language": "python",
     "metadata": {},
     "outputs": [
      {
       "metadata": {},
       "output_type": "pyout",
       "prompt_number": 3,
       "text": [
        "''"
       ]
      }
     ],
     "prompt_number": 3
    },
    {
     "cell_type": "code",
     "collapsed": false,
     "input": [
      "import os\n",
      "os.listdir('.')"
     ],
     "language": "python",
     "metadata": {},
     "outputs": [
      {
       "metadata": {},
       "output_type": "pyout",
       "prompt_number": 7,
       "text": [
        "['.git',\n",
        " '.gitignore',\n",
        " '.ipynb_checkpoints',\n",
        " '2014 01 16 - Figuring out Tokenization.ipynb',\n",
        " '2014 02 11 - Playing with Python.ipynb',\n",
        " '2014 10 16 - Understanding Sparse Matrices.ipynb',\n",
        " '2014 10 20 - What Classifier is Best.ipynb',\n",
        " 'Classifier Perceptron.ipynb',\n",
        " 'classifier.py',\n",
        " 'classifier.pyc',\n",
        " 'Creating_the_data_manager class.ipynb',\n",
        " 'data',\n",
        " 'Data Manager - Continued.ipynb',\n",
        " 'dataImport.py',\n",
        " 'dataImport.pyc',\n",
        " 'data_from_Mark.zip',\n",
        " 'data_manager.py',\n",
        " 'data_manager.pyc',\n",
        " 'DL.py',\n",
        " 'DL.pyc',\n",
        " 'How Perceptron and Averaged Perceptron Work.xlsx',\n",
        " 'misc.py',\n",
        " 'misc.pyc',\n",
        " 'Multilabel_Perceptron.py',\n",
        " 'Multilabel_Perceptron_imp.py',\n",
        " 'project1.sublime-project',\n",
        " 'project1.sublime-workspace',\n",
        " 'README.md',\n",
        " 'Results',\n",
        " 'runMe_2014-01-16-BK.py',\n",
        " 'runMe_2014_01_20_BK.py',\n",
        " 'runMe_2014_01_20_BK.pyc',\n",
        " 'runMe_kiri_2013-12-13.py',\n",
        " 'runMe_kiri_2013-12-16.py',\n",
        " 'run_perceptron_2014_02_16.py',\n",
        " 'semi_supervised_learner.py',\n",
        " 'semi_supervised_learner.pyc',\n",
        " 'Testing Data Manager.ipynb',\n",
        " 'Testing Data Manager.xlsx',\n",
        " 'Thumbs.db',\n",
        " 'vectorized_data_df1.pickle',\n",
        " 'vectorized_data_df10.pickle',\n",
        " 'vectorized_data_df2.pickle',\n",
        " 'vectorized_data_df3.pickle',\n",
        " 'vectorized_data_df5.pickle',\n",
        " 'vectorized_data_df7.pickle',\n",
        " 'yarowsky-propagation - Make a similar paper question mark.pdf',\n",
        " 'Yarowsky.py',\n",
        " 'Yarowsky.pyc']"
       ]
      }
     ],
     "prompt_number": 7
    },
    {
     "cell_type": "code",
     "collapsed": false,
     "input": [
      "import shutil\n",
      "shutil.move('./DL.pyc','./results')"
     ],
     "language": "python",
     "metadata": {},
     "outputs": [],
     "prompt_number": 8
    },
    {
     "cell_type": "code",
     "collapsed": false,
     "input": [],
     "language": "python",
     "metadata": {},
     "outputs": []
    }
   ],
   "metadata": {}
  }
 ]
}