{
 "metadata": {
  "name": ""
 },
 "nbformat": 3,
 "nbformat_minor": 0,
 "worksheets": [
  {
   "cells": [
    {
     "cell_type": "code",
     "collapsed": false,
     "input": [
      "!python classifier.py"
     ],
     "language": "python",
     "metadata": {},
     "outputs": [
      {
       "output_type": "stream",
       "stream": "stderr",
       "text": [
        "Traceback (most recent call last):\n",
        "  File \"classifier.py\", line 14, in <module>\n",
        "    import data_manager\n",
        "  File \"C:\\Users\\Willem\\SkyDrive\\Documents\\School\\SFU\\Research\\Kiri\\data_manager.py\", line 395\n",
        "    return num_train\n",
        "    ^\n",
        "IndentationError: unexpected indent\n"
       ]
      }
     ],
     "prompt_number": 6
    },
    {
     "cell_type": "code",
     "collapsed": false,
     "input": [],
     "language": "python",
     "metadata": {},
     "outputs": []
    }
   ],
   "metadata": {}
  }
 ]
}