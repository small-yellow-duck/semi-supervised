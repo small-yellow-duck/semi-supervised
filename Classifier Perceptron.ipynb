{
 "metadata": {
  "name": ""
 },
 "nbformat": 3,
 "nbformat_minor": 0,
 "worksheets": [
  {
   "cells": [
    {
     "cell_type": "code",
     "collapsed": false,
     "input": [
      "!python classifier.py"
     ],
     "language": "python",
     "metadata": {},
     "outputs": [
      {
       "output_type": "stream",
       "stream": "stdout",
       "text": [
        "feat_probs [[ 0.016  0.084  0.001  0.049  0.389  0.722  0.092  0.01   0.     0.   ]\n",
        " [ 0.     0.258  0.094  0.114  0.389  0.249  0.045  0.005  0.022  0.002]\n",
        " [ 0.109  0.144  0.     0.085  0.088  0.409  0.022  0.     0.003  0.003]\n",
        " [ 0.044  0.081  0.054  0.316  0.06   0.133  0.009  0.011  0.024  0.004]]\n",
        "labels: [4 2 4 3 4 2 2 1 3 2 1 4 1 2 4 4 4 2 1 4] unique: [1 2 3 4]\n",
        "labels: [4 3 4 4 3 3 1 3 3 4] unique: [1 3 4]\n"
       ]
      },
      {
       "output_type": "stream",
       "stream": "stderr",
       "text": [
        "Traceback (most recent call last):\n",
        "  File \"classifier.py\", line 101, in <module>\n",
        "    num_test=10)\n",
        "  File \"C:\\Users\\Willem\\SkyDrive\\Documents\\School\\SFU\\Research\\Kiri\\misc.py\", line 26, in create_synthetic_data\n",
        "    test_X,test_Y=create_data(num_test)\n",
        "  File \"C:\\Users\\Willem\\SkyDrive\\Documents\\School\\SFU\\Research\\Kiri\\misc.py\", line 22, in create_data\n",
        "    assert len(np.unique(labels))==num_labels\n",
        "AssertionError\n"
       ]
      }
     ],
     "prompt_number": 26
    },
    {
     "cell_type": "code",
     "collapsed": false,
     "input": [
      "import numpy as np\n",
      "labels=np.array([4, 3, 4, 4, 3, 3, 1, 3, 3, 4,2])"
     ],
     "language": "python",
     "metadata": {},
     "outputs": [],
     "prompt_number": 5
    },
    {
     "cell_type": "code",
     "collapsed": false,
     "input": [
      "u=np.unique(labels)\n",
      "print u"
     ],
     "language": "python",
     "metadata": {},
     "outputs": [
      {
       "output_type": "stream",
       "stream": "stdout",
       "text": [
        "[1 2 3 4]\n"
       ]
      }
     ],
     "prompt_number": 10
    },
    {
     "cell_type": "code",
     "collapsed": false,
     "input": [
      "u==np.arange(1,len(u)+1)"
     ],
     "language": "python",
     "metadata": {},
     "outputs": [
      {
       "metadata": {},
       "output_type": "pyout",
       "prompt_number": 11,
       "text": [
        "array([ True,  True,  True,  True], dtype=bool)"
       ]
      }
     ],
     "prompt_number": 11
    },
    {
     "cell_type": "code",
     "collapsed": false,
     "input": [
      "all(u==np.arange(1,len(u)+1))"
     ],
     "language": "python",
     "metadata": {},
     "outputs": [
      {
       "metadata": {},
       "output_type": "pyout",
       "prompt_number": 12,
       "text": [
        "True"
       ]
      }
     ],
     "prompt_number": 12
    },
    {
     "cell_type": "code",
     "collapsed": false,
     "input": [],
     "language": "python",
     "metadata": {},
     "outputs": []
    }
   ],
   "metadata": {}
  }
 ]
}