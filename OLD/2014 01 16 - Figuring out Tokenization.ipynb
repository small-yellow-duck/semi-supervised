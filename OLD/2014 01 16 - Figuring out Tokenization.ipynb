{
 "metadata": {
  "name": ""
 },
 "nbformat": 3,
 "nbformat_minor": 0,
 "worksheets": [
  {
   "cells": [
    {
     "cell_type": "heading",
     "level": 1,
     "metadata": {},
     "source": [
      "Understanding the code"
     ]
    },
    {
     "cell_type": "heading",
     "level": 2,
     "metadata": {},
     "source": [
      "Figuring out the tokenization"
     ]
    },
    {
     "cell_type": "raw",
     "metadata": {},
     "source": [
      "I put \"sys.exit()\" after the tokenization.\n",
      "\n",
      "I made it so I could change the splitting variable, due to concerns about inadvertently changing features:\n",
      "\n",
      "split_var='|'\n",
      "def splitter(str):\n",
      "\treturn str.split(split_var)\n",
      "train2 = [split_var.join(train[i]) for i in range(len(train))]\n",
      "test2 = [split_var.join(test[i]) for i in range(len(test))]\n",
      "tfidf = TfidfVectorizer(min_df = 1, tokenizer=splitter)"
     ]
    },
    {
     "cell_type": "heading",
     "level": 4,
     "metadata": {},
     "source": [
      "split_var='|'"
     ]
    },
    {
     "cell_type": "code",
     "collapsed": false,
     "input": [
      "!python runMe_kiri_2013-12-13.py"
     ],
     "language": "python",
     "metadata": {},
     "outputs": [
      {
       "output_type": "stream",
       "stream": "stdout",
       "text": [
        "| occurs a total of 0 times.\n",
        "| occurs a total of 0 times.\n",
        "vectorizer finished for split_var |  train/test shapes are:\n",
        "(89305, 68008) (877, 68008)\n"
       ]
      }
     ],
     "prompt_number": 1
    },
    {
     "cell_type": "heading",
     "level": 4,
     "metadata": {},
     "source": [
      "split_var=','"
     ]
    },
    {
     "cell_type": "code",
     "collapsed": false,
     "input": [
      "!python runMe_kiri_2013-12-13.py"
     ],
     "language": "python",
     "metadata": {},
     "outputs": [
      {
       "output_type": "stream",
       "stream": "stdout",
       "text": [
        ", is in X01_17,000-resident\n",
        ", is in X0_3,500-member-Harvard-Union\n",
        ", is in X7_3,500\n",
        ", is in X2_3,500-member\n",
        ", is in X0_28,000-member-California-Society\n",
        ", is in X2_28,000-member\n",
        ", is in X7_28,000\n",
        ", is in X0_1,400-square-acre-Toms-River\n",
        ", is in X7_1,400\n",
        ", is in X2_1,400-square-acre\n",
        ", is in X2_272,000-member\n",
        ", is in X7_272,000\n",
        ", is in X0_272,000-member-American-Institute\n",
        ", is in X0_1,200-mile-Delaware\n",
        ", is in X2_1,200-mile\n",
        ", is in X7_1,200\n",
        ", is in X01_3,200-acre\n",
        ", is in X0_7,200-foot-high-Socorro-Peak\n",
        ", is in X7_7,200\n",
        ", is in X2_7,200-foot-high\n",
        ", is in X01_5,\n",
        ", is in X2_7,000-member\n",
        ", is in X0_7,000-member-National-Security-TradersNNPNNP\n",
        ", is in X7_7,000\n",
        ", occurs a total of 24 times.\n",
        ", occurs a total of 0 times.\n",
        "vectorizer finished for split_var ,  train/test shapes are:\n",
        "(89305, 68017) (877, 68017)\n"
       ]
      }
     ],
     "prompt_number": 2
    },
    {
     "cell_type": "heading",
     "level": 4,
     "metadata": {},
     "source": [
      "split_var='@'"
     ]
    },
    {
     "cell_type": "code",
     "collapsed": false,
     "input": [
      "!python runMe_kiri_2013-12-13.py"
     ],
     "language": "python",
     "metadata": {},
     "outputs": [
      {
       "output_type": "stream",
       "stream": "stdout",
       "text": [
        "@ occurs a total of 0 times.\n",
        "@ occurs a total of 0 times.\n",
        "vectorizer finished for split_var @  train/test shapes are:\n",
        "(89305, 68008) (877, 68008)\n"
       ]
      }
     ],
     "prompt_number": 3
    },
    {
     "cell_type": "heading",
     "level": 3,
     "metadata": {},
     "source": [
      "Conclusion:"
     ]
    },
    {
     "cell_type": "raw",
     "metadata": {},
     "source": [
      "The ',' occurs in 24 of the feature instances, and so by using this as the splitting token we were inadvertently modifying the features somewhat.  I don't expect this would have significantly affected any results.  Using '|' or '@' as the split variable are both OK."
     ]
    }
   ],
   "metadata": {}
  }
 ]
}