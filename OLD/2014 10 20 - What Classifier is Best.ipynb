{
 "metadata": {
  "name": ""
 },
 "nbformat": 3,
 "nbformat_minor": 0,
 "worksheets": [
  {
   "cells": [
    {
     "cell_type": "heading",
     "level": 4,
     "metadata": {},
     "source": [
      "What is linear_model.SGDClassifier?  Is this what we should be using?"
     ]
    },
    {
     "cell_type": "raw",
     "metadata": {},
     "source": [
      "It implements Stochastic Gradient Descent.\n",
      "The code sets loss='log':\n",
      "    clf = linear_model.SGDClassifier(loss='log')\n",
      "This causes this to do logistic regression:\n",
      "    The loss function to be used. Defaults to \u2018hinge\u2019, which gives \n",
      "    a linear SVM. The \u2018log\u2019 loss gives logistic regression\n",
      "    http://scikit-learn.org/stable/modules/generated/sklearn.linear_model.SGDClassifier.html\n",
      "\n",
      "An alternative would be to use sklearn.linear_model.LogisticRegression\n",
      "    http://scikit-learn.org/stable/modules/generated/sklearn.linear_model.LogisticRegression.html#sklearn.linear_model.LogisticRegression"
     ]
    },
    {
     "cell_type": "heading",
     "level": 5,
     "metadata": {},
     "source": [
      "SGD"
     ]
    },
    {
     "cell_type": "code",
     "collapsed": false,
     "input": [
      "#linear_model.SGDClassifier(loss='log'):\n",
      "!python runMe_2014-01-16-BK.py"
     ],
     "language": "python",
     "metadata": {},
     "outputs": [
      {
       "output_type": "stream",
       "stream": "stdout",
       "text": [
        "the frequencies are:  <numpy.flatiter object at 0x000000001664D230>\n",
        "len(freqs) =  24998\n",
        "num 1s:  0\n",
        "vectorizer finished for split_var @  train/test shapes are:\n",
        "(89305, 24998) (877, 24998)\n",
        "SGD training score  1.0\n",
        "SGD test score  0.533637400228\n",
        "SGD training score iter  1 0.92000593648\n",
        "SGD test score iter  1 0.0877993158495\n",
        "SGD training score iter  2 0.947472146016\n",
        "SGD test score iter  2 0.0490307867731\n"
       ]
      }
     ],
     "prompt_number": 15
    },
    {
     "cell_type": "heading",
     "level": 6,
     "metadata": {},
     "source": [
      "Why is the first train/test scores different?\n",
      "Why did the test score go down so much?"
     ]
    },
    {
     "cell_type": "raw",
     "metadata": {},
     "source": [
      "This is because it is doing self-training!  Self-training apparently makes things much worse as currently implemented.  This is probably because the newly added labelled examples are not labelled!"
     ]
    },
    {
     "cell_type": "heading",
     "level": 2,
     "metadata": {},
     "source": [
      "Bug: newly added labelled examples are not labelled!"
     ]
    },
    {
     "cell_type": "heading",
     "level": 5,
     "metadata": {},
     "source": [
      "Logistic Regression"
     ]
    },
    {
     "cell_type": "code",
     "collapsed": false,
     "input": [
      "#linear_model.LogisticRegression(loss='log'):\n",
      "!python runMe_2014-01-16-BK.py"
     ],
     "language": "python",
     "metadata": {},
     "outputs": [
      {
       "output_type": "stream",
       "stream": "stdout",
       "text": [
        "Total number of features:  24998\n",
        "Number of 1s:  0\n",
        "vectorizer finished for split_var @  train/test shapes are:\n",
        "(89305, 24998) (877, 24998)\n",
        "SGD training score  1.0\n",
        "SGD test score  0.537058152794\n",
        "SGD training score iter  1 1.0\n",
        "SGD test score iter  1 0.112884834664\n",
        "SGD training score iter  2 0.999899221768\n",
        "SGD test score iter  2 0.112884834664\n"
       ]
      }
     ],
     "prompt_number": 2
    },
    {
     "cell_type": "code",
     "collapsed": false,
     "input": [
      "#linear_model.LogisticRegression(loss='log'):\n",
      "!python runMe_2014-01-16-BK.py"
     ],
     "language": "python",
     "metadata": {},
     "outputs": [
      {
       "output_type": "stream",
       "stream": "stdout",
       "text": [
        "Total number of features:  24998\n",
        "Number of 1s:  0\n",
        "vectorizer finished for split_var @  train/test shapes are:\n",
        "(89305, 24998) (877, 24998)\n",
        "SGD training score  1.0\n",
        "SGD test score  0.537058152794\n",
        "the predicted probabilities start with\n",
        "[[ 0.43667502  0.09879085  0.46453413]\n",
        " [ 0.43081922  0.06612487  0.50305591]\n",
        " [ 0.43518624  0.06567219  0.49914157]\n",
        " [ 0.47700703  0.06986433  0.45312864]\n",
        " [ 0.43952822  0.14167171  0.41880008]\n",
        " [ 0.43175511  0.06589921  0.50234567]\n",
        " [ 0.44697507  0.14516704  0.4078579 ]\n",
        " [ 0.43997401  0.06534478  0.49468121]\n",
        " [ 0.4321609   0.06591972  0.50191938]\n",
        " [ 0.43997401  0.06534478  0.49468121]]\n",
        "SGD training score iter  1 1.0\n",
        "SGD test score iter  1 0.112884834664\n",
        "SGD training score iter  2 0.999899221768\n",
        "SGD test score iter  2 0.112884834664\n"
       ]
      }
     ],
     "prompt_number": 3
    },
    {
     "cell_type": "raw",
     "metadata": {},
     "source": [
      "There is still a huge drop in score!"
     ]
    },
    {
     "cell_type": "heading",
     "level": 5,
     "metadata": {},
     "source": [
      "Improving the test accuracy (prior to self-training)"
     ]
    },
    {
     "cell_type": "code",
     "collapsed": false,
     "input": [
      "from matplotlib import pyplot as plt\n",
      "%matplotlib inline"
     ],
     "language": "python",
     "metadata": {},
     "outputs": [],
     "prompt_number": 7
    },
    {
     "cell_type": "code",
     "collapsed": false,
     "input": [
      "#linear_model.LogisticRegression(loss='log'):\n",
      "!python runMe_2014-01-16-BK.py"
     ],
     "language": "python",
     "metadata": {},
     "outputs": [
      {
       "output_type": "stream",
       "stream": "stdout",
       "text": [
        "Total number of features:  24998\n",
        "Number of 1s:  0\n",
        "vectorizer finished for split_var @  train/test shapes are:\n",
        "(89305, 24998) (877, 24998)\n",
        "SGD training score  1.0\n",
        "SGD test score  0.537058152794\n",
        "the predicted probabilities start with\n",
        "[[ 0.43667502  0.09879085  0.46453413]\n",
        " [ 0.43081922  0.06612487  0.50305591]\n",
        " [ 0.43518624  0.06567219  0.49914157]\n",
        " [ 0.47700703  0.06986433  0.45312864]\n",
        " [ 0.43952822  0.14167171  0.41880008]\n",
        " [ 0.43175511  0.06589921  0.50234567]\n",
        " [ 0.44697507  0.14516704  0.4078579 ]\n",
        " [ 0.43997401  0.06534478  0.49468121]\n",
        " [ 0.4321609   0.06591972  0.50191938]\n",
        " [ 0.43997401  0.06534478  0.49468121]]\n",
        "SGD training score iter  1 1.0\n",
        "SGD test score iter  1 0.112884834664\n",
        "SGD training score iter  2 0.999899221768\n",
        "SGD test score iter  2 0.112884834664\n"
       ]
      },
      {
       "output_type": "stream",
       "stream": "stdout",
       "text": [
        "\n",
        "Caching the list of root modules, please wait!\n",
        "(This will only be done once - type '%rehashx' to reset cache!)\n",
        "\n"
       ]
      }
     ],
     "prompt_number": 8
    },
    {
     "cell_type": "code",
     "collapsed": false,
     "input": [
      "#import runMe_20\n",
      "!dir"
     ],
     "language": "python",
     "metadata": {},
     "outputs": [
      {
       "output_type": "stream",
       "stream": "stdout",
       "text": [
        " Volume in drive C is ACER\n",
        " Volume Serial Number is B23E-CD77\n",
        "\n",
        " Directory of C:\\Users\\Willem\\SkyDrive\\Documents\\School\\SFU\\Research\\Kiri\n",
        "\n",
        "2014-01-20  12:46 PM    <DIR>          .\n",
        "2014-01-20  12:46 PM    <DIR>          ..\n",
        "2014-01-16  04:33 PM                25 .gitignore\n",
        "2014-01-16  05:18 PM             4,582 2014 01 16 - Figuring out Tokenization.ipynb\n",
        "2014-01-18  03:51 PM            16,193 2014 10 16 - Understanding Sparse Matrices.ipynb\n",
        "2014-01-20  12:45 PM            10,694 2014 10 20 - What Classifier is Best.ipynb\n",
        "2014-01-16  04:09 PM    <DIR>          data\n",
        "2014-01-16  04:00 PM             4,066 dataImport.py\n",
        "2014-01-16  04:08 PM             5,346 dataImport.pyc\n",
        "2014-01-16  04:00 PM             7,406 DL.py\n",
        "2014-01-16  04:08 PM             6,822 DL.pyc\n",
        "2014-01-16  04:00 PM               308 misc.py\n",
        "2014-01-16  04:08 PM             1,137 misc.pyc\n",
        "2014-01-16  04:00 PM                 0 README.md\n",
        "2014-01-20  12:43 PM             5,411 runMe_2014-01-16-BK.py\n",
        "2014-01-20  12:46 PM             5,411 runMe_2014_01_20_BK.py\n",
        "2014-01-16  05:31 PM             4,854 runMe_kiri_2013-12-13.py\n",
        "2014-01-16  04:00 PM             5,620 runMe_kiri_2013-12-16.py\n",
        "2014-01-17  02:14 PM                98 Untitled0.ipynb\n",
        "2014-01-16  04:00 PM             1,547 Yarowsky.py\n",
        "2014-01-16  04:08 PM             2,101 Yarowsky.pyc\n",
        "              18 File(s)         81,621 bytes\n",
        "               3 Dir(s)  381,591,179,264 bytes free\n"
       ]
      }
     ],
     "prompt_number": 14
    },
    {
     "cell_type": "code",
     "collapsed": false,
     "input": [
      "import runMe_2014_01_20_BK"
     ],
     "language": "python",
     "metadata": {},
     "outputs": [
      {
       "output_type": "stream",
       "stream": "stdout",
       "text": [
        "Total number of features:  24998\n",
        "Number of 1s:  0\n",
        "vectorizer finished for split_var"
       ]
      },
      {
       "output_type": "stream",
       "stream": "stdout",
       "text": [
        " @  train/test shapes are:\n",
        "(89305, 24998) (877, 24998)\n",
        "SGD training score "
       ]
      },
      {
       "output_type": "stream",
       "stream": "stdout",
       "text": [
        " 1.0\n",
        "SGD test score  0.537058152794\n",
        "the predicted probabilities start with"
       ]
      },
      {
       "ename": "SystemExit",
       "evalue": "",
       "output_type": "pyerr",
       "traceback": [
        "An exception has occurred, use %tb to see the full traceback.\n",
        "\u001b[1;31mSystemExit\u001b[0m\n"
       ]
      },
      {
       "output_type": "stream",
       "stream": "stdout",
       "text": [
        "\n",
        "[[ 0.43667502  0.09879085  0.46453413]\n",
        " [ 0.43081922  0.06612487  0.50305591]\n",
        " [ 0.43518624  0.06567219  0.49914157]\n",
        " [ 0.47700703  0.06986433  0.45312864]\n",
        " [ 0.43952822  0.14167171  0.41880008]\n",
        " [ 0.43175511  0.06589921  0.50234567]\n",
        " [ 0.44697507  0.14516704  0.4078579 ]\n",
        " [ 0.43997401  0.06534478  0.49468121]\n",
        " [ 0.4321609   0.06591972  0.50191938]\n",
        " [ 0.43997401  0.06534478  0.49468121]]\n"
       ]
      },
      {
       "output_type": "stream",
       "stream": "stderr",
       "text": [
        "To exit: use 'exit', 'quit', or Ctrl-D.\n"
       ]
      },
      {
       "metadata": {},
       "output_type": "display_data",
       "png": "[encoded data removed]",
       "text": [
        "<matplotlib.figure.Figure at 0x16ce8048>"
       ]
      }
     ],
     "prompt_number": 15
    },
    {
     "cell_type": "code",
     "collapsed": false,
     "input": [
      "reload(runMe_2014_01_20_BK.py)"
     ],
     "language": "python",
     "metadata": {},
     "outputs": [
      {
       "ename": "NameError",
       "evalue": "name 'runMe_2014_01_20_BK' is not defined",
       "output_type": "pyerr",
       "traceback": [
        "\u001b[1;31m---------------------------------------------------------------------------\u001b[0m\n\u001b[1;31mNameError\u001b[0m                                 Traceback (most recent call last)",
        "\u001b[1;32m<ipython-input-16-de684193c7ff>\u001b[0m in \u001b[0;36m<module>\u001b[1;34m()\u001b[0m\n\u001b[1;32m----> 1\u001b[1;33m \u001b[0mreload\u001b[0m\u001b[1;33m(\u001b[0m\u001b[0mrunMe_2014_01_20_BK\u001b[0m\u001b[1;33m.\u001b[0m\u001b[0mpy\u001b[0m\u001b[1;33m)\u001b[0m\u001b[1;33m\u001b[0m\u001b[0m\n\u001b[0m",
        "\u001b[1;31mNameError\u001b[0m: name 'runMe_2014_01_20_BK' is not defined"
       ]
      }
     ],
     "prompt_number": 16
    },
    {
     "cell_type": "code",
     "collapsed": false,
     "input": [
      "dir()"
     ],
     "language": "python",
     "metadata": {},
     "outputs": [
      {
       "metadata": {},
       "output_type": "pyout",
       "prompt_number": 17,
       "text": [
        "['In',\n",
        " 'Out',\n",
        " '_',\n",
        " '__',\n",
        " '___',\n",
        " '__builtin__',\n",
        " '__builtins__',\n",
        " '__doc__',\n",
        " '__name__',\n",
        " '__package__',\n",
        " '_dh',\n",
        " '_exit_code',\n",
        " '_i',\n",
        " '_i1',\n",
        " '_i10',\n",
        " '_i11',\n",
        " '_i12',\n",
        " '_i13',\n",
        " '_i14',\n",
        " '_i15',\n",
        " '_i16',\n",
        " '_i17',\n",
        " '_i2',\n",
        " '_i3',\n",
        " '_i4',\n",
        " '_i5',\n",
        " '_i6',\n",
        " '_i7',\n",
        " '_i8',\n",
        " '_i9',\n",
        " '_ih',\n",
        " '_ii',\n",
        " '_iii',\n",
        " '_oh',\n",
        " '_sh',\n",
        " 'exit',\n",
        " 'get_ipython',\n",
        " 'help',\n",
        " 'plt',\n",
        " 'quit']"
       ]
      }
     ],
     "prompt_number": 17
    },
    {
     "cell_type": "code",
     "collapsed": false,
     "input": [
      "import runMe_2014_01_20_BK"
     ],
     "language": "python",
     "metadata": {},
     "outputs": [
      {
       "output_type": "stream",
       "stream": "stdout",
       "text": [
        "Total number of features:  24998\n",
        "Number of 1s:  0\n",
        "vectorizer finished for split_var"
       ]
      },
      {
       "output_type": "stream",
       "stream": "stdout",
       "text": [
        " @  train/test shapes are:\n",
        "(89305, 24998) (877, 24998)\n",
        "SGD training score "
       ]
      },
      {
       "output_type": "stream",
       "stream": "stdout",
       "text": [
        " 1.0\n",
        "SGD test score  0.537058152794\n",
        "the predicted probabilities start with"
       ]
      },
      {
       "output_type": "stream",
       "stream": "stdout",
       "text": [
        "\n",
        "[[ 0.43667502  0.09879085  0.46453413]\n",
        " [ 0.43081922  0.06612487  0.50305591]\n",
        " [ 0.43518624  0.06567219  0.49914157]\n",
        " [ 0.47700703  0.06986433  0.45312864]\n",
        " [ 0.43952822  0.14167171  0.41880008]\n",
        " [ 0.43175511  0.06589921  0.50234567]\n",
        " [ 0.44697507  0.14516704  0.4078579 ]\n",
        " [ 0.43997401  0.06534478  0.49468121]\n",
        " [ 0.4321609   0.06591972  0.50191938]\n",
        " [ 0.43997401  0.06534478  0.49468121]]\n"
       ]
      },
      {
       "metadata": {},
       "output_type": "display_data",
       "png": "[encoded data removed]",
       "text": [
        "<matplotlib.figure.Figure at 0x14c28048>"
       ]
      }
     ],
     "prompt_number": 18
    },
    {
     "cell_type": "code",
     "collapsed": false,
     "input": [
      "import numpy as np\n",
      "mat=np.arange(12).reshape(3,4)"
     ],
     "language": "python",
     "metadata": {},
     "outputs": [],
     "prompt_number": 20
    },
    {
     "cell_type": "code",
     "collapsed": false,
     "input": [
      "mat[[0,2]][:,[0,2,3]]\n",
      "# mat[np.array([2,3])]"
     ],
     "language": "python",
     "metadata": {},
     "outputs": [
      {
       "metadata": {},
       "output_type": "pyout",
       "prompt_number": 28,
       "text": [
        "array([[ 0,  2,  3],\n",
        "       [ 8, 10, 11]])"
       ]
      }
     ],
     "prompt_number": 28
    },
    {
     "cell_type": "code",
     "collapsed": false,
     "input": [
      "np.ones(5,2)"
     ],
     "language": "python",
     "metadata": {},
     "outputs": [
      {
       "ename": "TypeError",
       "evalue": "data type not understood",
       "output_type": "pyerr",
       "traceback": [
        "\u001b[1;31m---------------------------------------------------------------------------\u001b[0m\n\u001b[1;31mTypeError\u001b[0m                                 Traceback (most recent call last)",
        "\u001b[1;32m<ipython-input-31-c21db559efc1>\u001b[0m in \u001b[0;36m<module>\u001b[1;34m()\u001b[0m\n\u001b[1;32m----> 1\u001b[1;33m \u001b[0mnp\u001b[0m\u001b[1;33m.\u001b[0m\u001b[0mones\u001b[0m\u001b[1;33m(\u001b[0m\u001b[1;36m5\u001b[0m\u001b[1;33m,\u001b[0m\u001b[1;36m2\u001b[0m\u001b[1;33m)\u001b[0m\u001b[1;33m\u001b[0m\u001b[0m\n\u001b[0m",
        "\u001b[1;32mC:\\Users\\Willem\\Anaconda\\lib\\site-packages\\numpy\\core\\numeric.pyc\u001b[0m in \u001b[0;36mones\u001b[1;34m(shape, dtype, order)\u001b[0m\n\u001b[0;32m    146\u001b[0m \u001b[1;33m\u001b[0m\u001b[0m\n\u001b[0;32m    147\u001b[0m     \"\"\"\n\u001b[1;32m--> 148\u001b[1;33m     \u001b[0ma\u001b[0m \u001b[1;33m=\u001b[0m \u001b[0mempty\u001b[0m\u001b[1;33m(\u001b[0m\u001b[0mshape\u001b[0m\u001b[1;33m,\u001b[0m \u001b[0mdtype\u001b[0m\u001b[1;33m,\u001b[0m \u001b[0morder\u001b[0m\u001b[1;33m)\u001b[0m\u001b[1;33m\u001b[0m\u001b[0m\n\u001b[0m\u001b[0;32m    149\u001b[0m     \u001b[0mmultiarray\u001b[0m\u001b[1;33m.\u001b[0m\u001b[0mcopyto\u001b[0m\u001b[1;33m(\u001b[0m\u001b[0ma\u001b[0m\u001b[1;33m,\u001b[0m \u001b[1;36m1\u001b[0m\u001b[1;33m,\u001b[0m \u001b[0mcasting\u001b[0m\u001b[1;33m=\u001b[0m\u001b[1;34m'unsafe'\u001b[0m\u001b[1;33m)\u001b[0m\u001b[1;33m\u001b[0m\u001b[0m\n\u001b[0;32m    150\u001b[0m     \u001b[1;32mreturn\u001b[0m \u001b[0ma\u001b[0m\u001b[1;33m\u001b[0m\u001b[0m\n",
        "\u001b[1;31mTypeError\u001b[0m: data type not understood"
       ]
      }
     ],
     "prompt_number": 31
    },
    {
     "cell_type": "code",
     "collapsed": false,
     "input": [
      "np.ones(5).reshape(5,1)"
     ],
     "language": "python",
     "metadata": {},
     "outputs": [
      {
       "metadata": {},
       "output_type": "pyout",
       "prompt_number": 32,
       "text": [
        "array([[ 1.],\n",
        "       [ 1.],\n",
        "       [ 1.],\n",
        "       [ 1.],\n",
        "       [ 1.]])"
       ]
      }
     ],
     "prompt_number": 32
    },
    {
     "cell_type": "code",
     "collapsed": false,
     "input": [
      "g=(i**2 for i in xrange(5))"
     ],
     "language": "python",
     "metadata": {},
     "outputs": [],
     "prompt_number": 33
    },
    {
     "cell_type": "code",
     "collapsed": false,
     "input": [
      "g"
     ],
     "language": "python",
     "metadata": {},
     "outputs": [
      {
       "metadata": {},
       "output_type": "pyout",
       "prompt_number": 34,
       "text": [
        "<generator object <genexpr> at 0x0000000017954360>"
       ]
      }
     ],
     "prompt_number": 34
    },
    {
     "cell_type": "code",
     "collapsed": false,
     "input": [
      "import itertools as it\n",
      "it.islice(g,2,4)"
     ],
     "language": "python",
     "metadata": {},
     "outputs": [
      {
       "metadata": {},
       "output_type": "pyout",
       "prompt_number": 38,
       "text": [
        "<itertools.islice at 0x17c0d908>"
       ]
      }
     ],
     "prompt_number": 38
    },
    {
     "cell_type": "code",
     "collapsed": false,
     "input": [
      "it"
     ],
     "language": "python",
     "metadata": {},
     "outputs": []
    }
   ],
   "metadata": {}
  }
 ]
}