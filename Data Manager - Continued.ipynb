{
 "metadata": {
  "name": ""
 },
 "nbformat": 3,
 "nbformat_minor": 0,
 "worksheets": [
  {
   "cells": [
    {
     "cell_type": "code",
     "collapsed": false,
     "input": [
      "import numpy as np\n",
      "import scipy.sparse as sparse"
     ],
     "language": "python",
     "metadata": {},
     "outputs": [],
     "prompt_number": 8
    },
    {
     "cell_type": "code",
     "collapsed": false,
     "input": [
      "sp=sparse.csr_matrix(np.arange(12).reshape(3,4))"
     ],
     "language": "python",
     "metadata": {},
     "outputs": [],
     "prompt_number": 9
    },
    {
     "cell_type": "code",
     "collapsed": false,
     "input": [
      "print sp.todense()\n",
      "print sp"
     ],
     "language": "python",
     "metadata": {},
     "outputs": [
      {
       "output_type": "stream",
       "stream": "stdout",
       "text": [
        "[[ 0  1  2  3]\n",
        " [ 4  5  6  7]\n",
        " [ 8  9 10 11]]\n",
        "  (0, 1)\t1\n",
        "  (0, 2)\t2\n",
        "  (0, 3)\t3\n",
        "  (1, 0)\t4\n",
        "  (1, 1)\t5\n",
        "  (1, 2)\t6\n",
        "  (1, 3)\t7\n",
        "  (2, 0)\t8\n",
        "  (2, 1)\t9\n",
        "  (2, 2)\t10\n",
        "  (2, 3)\t11\n"
       ]
      }
     ],
     "prompt_number": 10
    },
    {
     "cell_type": "code",
     "collapsed": false,
     "input": [
      "sp[:,2]=0"
     ],
     "language": "python",
     "metadata": {},
     "outputs": [],
     "prompt_number": 11
    },
    {
     "cell_type": "code",
     "collapsed": false,
     "input": [
      "print sp"
     ],
     "language": "python",
     "metadata": {},
     "outputs": [
      {
       "output_type": "stream",
       "stream": "stdout",
       "text": [
        "  (0, 1)\t1\n",
        "  (0, 2)\t0\n",
        "  (0, 3)\t3\n",
        "  (1, 0)\t4\n",
        "  (1, 1)\t5\n",
        "  (1, 2)\t0\n",
        "  (1, 3)\t7\n",
        "  (2, 0)\t8\n",
        "  (2, 1)\t9\n",
        "  (2, 2)\t0\n",
        "  (2, 3)\t11\n"
       ]
      }
     ],
     "prompt_number": 13
    },
    {
     "cell_type": "code",
     "collapsed": false,
     "input": [
      "s={3,4,5}"
     ],
     "language": "python",
     "metadata": {},
     "outputs": [],
     "prompt_number": 14
    },
    {
     "cell_type": "code",
     "collapsed": false,
     "input": [
      "s.add(0)"
     ],
     "language": "python",
     "metadata": {},
     "outputs": [],
     "prompt_number": 20
    },
    {
     "cell_type": "code",
     "collapsed": false,
     "input": [
      "s"
     ],
     "language": "python",
     "metadata": {},
     "outputs": [
      {
       "metadata": {},
       "output_type": "pyout",
       "prompt_number": 21,
       "text": [
        "{0, 3, 4, 5}"
       ]
      }
     ],
     "prompt_number": 21
    },
    {
     "cell_type": "code",
     "collapsed": false,
     "input": [
      "s-{0}"
     ],
     "language": "python",
     "metadata": {},
     "outputs": [
      {
       "metadata": {},
       "output_type": "pyout",
       "prompt_number": 23,
       "text": [
        "{3, 4, 5}"
       ]
      }
     ],
     "prompt_number": 23
    },
    {
     "cell_type": "code",
     "collapsed": false,
     "input": [
      "s|{6}"
     ],
     "language": "python",
     "metadata": {},
     "outputs": [
      {
       "metadata": {},
       "output_type": "pyout",
       "prompt_number": 24,
       "text": [
        "{0, 3, 4, 5, 6}"
       ]
      }
     ],
     "prompt_number": 24
    },
    {
     "cell_type": "code",
     "collapsed": false,
     "input": [
      "sl=sparse.lil_matrix(sp)"
     ],
     "language": "python",
     "metadata": {},
     "outputs": [],
     "prompt_number": 30
    },
    {
     "cell_type": "code",
     "collapsed": false,
     "input": [
      "print sl"
     ],
     "language": "python",
     "metadata": {},
     "outputs": [
      {
       "output_type": "stream",
       "stream": "stdout",
       "text": [
        "  (0, 1)\t1\n",
        "  (0, 2)\t0\n",
        "  (0, 3)\t3\n",
        "  (1, 0)\t4\n",
        "  (1, 1)\t5\n",
        "  (1, 2)\t0\n",
        "  (1, 3)\t7\n",
        "  (2, 0)\t8\n",
        "  (2, 1)\t9\n",
        "  (2, 2)\t0\n",
        "  (2, 3)\t11\n"
       ]
      }
     ],
     "prompt_number": 31
    },
    {
     "cell_type": "code",
     "collapsed": false,
     "input": [
      "print eliminate_zeros(sl)"
     ],
     "language": "python",
     "metadata": {},
     "outputs": [
      {
       "ename": "NameError",
       "evalue": "name 'eliminate_zeros' is not defined",
       "output_type": "pyerr",
       "traceback": [
        "\u001b[1;31m---------------------------------------------------------------------------\u001b[0m\n\u001b[1;31mNameError\u001b[0m                                 Traceback (most recent call last)",
        "\u001b[1;32m<ipython-input-33-f04aeaf8f806>\u001b[0m in \u001b[0;36m<module>\u001b[1;34m()\u001b[0m\n\u001b[1;32m----> 1\u001b[1;33m \u001b[1;32mprint\u001b[0m \u001b[0meliminate_zeros\u001b[0m\u001b[1;33m(\u001b[0m\u001b[0msl\u001b[0m\u001b[1;33m)\u001b[0m\u001b[1;33m\u001b[0m\u001b[0m\n\u001b[0m",
        "\u001b[1;31mNameError\u001b[0m: name 'eliminate_zeros' is not defined"
       ]
      }
     ],
     "prompt_number": 33
    },
    {
     "cell_type": "code",
     "collapsed": false,
     "input": [
      "sp=sparse.csr_matrix(np.arange(12).reshape(3,4))\n",
      "sp[2,:]=0\n",
      "sp[:,1]=0\n",
      "print sp\n",
      "spnz=sp.eliminate_zeros()\n",
      "print \"no zeros\"\n",
      "print sp"
     ],
     "language": "python",
     "metadata": {},
     "outputs": [
      {
       "output_type": "stream",
       "stream": "stdout",
       "text": [
        "  (0, 1)\t0\n",
        "  (0, 2)\t2\n",
        "  (0, 3)\t3\n",
        "  (1, 0)\t4\n",
        "  (1, 1)\t0\n",
        "  (1, 2)\t6\n",
        "  (1, 3)\t7\n",
        "  (2, 0)\t0\n",
        "  (2, 1)\t0\n",
        "  (2, 2)\t0\n",
        "  (2, 3)\t0\n",
        "no zeros\n",
        "  (0, 2)\t2\n",
        "  (0, 3)\t3\n",
        "  (1, 0)\t4\n",
        "  (1, 2)\t6\n",
        "  (1, 3)\t7\n"
       ]
      }
     ],
     "prompt_number": 41
    },
    {
     "cell_type": "code",
     "collapsed": false,
     "input": [
      "for i in range(4):\n",
      "    print i"
     ],
     "language": "python",
     "metadata": {},
     "outputs": [
      {
       "output_type": "stream",
       "stream": "stdout",
       "text": [
        "0\n",
        "1\n",
        "2\n",
        "3\n"
       ]
      }
     ],
     "prompt_number": 42
    },
    {
     "cell_type": "code",
     "collapsed": false,
     "input": [
      "print i"
     ],
     "language": "python",
     "metadata": {},
     "outputs": [
      {
       "output_type": "stream",
       "stream": "stdout",
       "text": [
        "3\n"
       ]
      }
     ],
     "prompt_number": 43
    },
    {
     "cell_type": "code",
     "collapsed": false,
     "input": [
      "sp.nonzero()"
     ],
     "language": "python",
     "metadata": {},
     "outputs": [
      {
       "metadata": {},
       "output_type": "pyout",
       "prompt_number": 44,
       "text": [
        "(array([0, 0, 1, 1, 1]), array([2, 3, 0, 2, 3]))"
       ]
      }
     ],
     "prompt_number": 44
    },
    {
     "cell_type": "code",
     "collapsed": false,
     "input": [
      "import random\n",
      "[random.random() for i in range(5)]"
     ],
     "language": "python",
     "metadata": {},
     "outputs": [
      {
       "metadata": {},
       "output_type": "pyout",
       "prompt_number": 46,
       "text": [
        "[0.4489163236195911,\n",
        " 0.6569720971185505,\n",
        " 0.05074371241151032,\n",
        " 0.24669574120563087,\n",
        " 0.9771861583651322]"
       ]
      }
     ],
     "prompt_number": 46
    },
    {
     "cell_type": "code",
     "collapsed": false,
     "input": [
      "len(sp)"
     ],
     "language": "python",
     "metadata": {},
     "outputs": [
      {
       "ename": "TypeError",
       "evalue": "sparse matrix length is ambiguous; use getnnz() or shape[0]",
       "output_type": "pyerr",
       "traceback": [
        "\u001b[1;31m---------------------------------------------------------------------------\u001b[0m\n\u001b[1;31mTypeError\u001b[0m                                 Traceback (most recent call last)",
        "\u001b[1;32m<ipython-input-47-bfdfa14f4c08>\u001b[0m in \u001b[0;36m<module>\u001b[1;34m()\u001b[0m\n\u001b[1;32m----> 1\u001b[1;33m \u001b[0mlen\u001b[0m\u001b[1;33m(\u001b[0m\u001b[0msp\u001b[0m\u001b[1;33m)\u001b[0m\u001b[1;33m\u001b[0m\u001b[0m\n\u001b[0m",
        "\u001b[1;32mC:\\Users\\Willem\\Anaconda\\lib\\site-packages\\scipy\\sparse\\base.pyc\u001b[0m in \u001b[0;36m__len__\u001b[1;34m(self)\u001b[0m\n\u001b[0;32m    190\u001b[0m     \u001b[1;32mdef\u001b[0m \u001b[0m__len__\u001b[0m\u001b[1;33m(\u001b[0m\u001b[0mself\u001b[0m\u001b[1;33m)\u001b[0m\u001b[1;33m:\u001b[0m\u001b[1;33m\u001b[0m\u001b[0m\n\u001b[0;32m    191\u001b[0m         \u001b[1;31m# return self.getnnz()\u001b[0m\u001b[1;33m\u001b[0m\u001b[1;33m\u001b[0m\u001b[0m\n\u001b[1;32m--> 192\u001b[1;33m         raise TypeError(\"sparse matrix length is ambiguous; use getnnz()\"\n\u001b[0m\u001b[0;32m    193\u001b[0m                          \" or shape[0]\")\n\u001b[0;32m    194\u001b[0m \u001b[1;33m\u001b[0m\u001b[0m\n",
        "\u001b[1;31mTypeError\u001b[0m: sparse matrix length is ambiguous; use getnnz() or shape[0]"
       ]
      }
     ],
     "prompt_number": 47
    },
    {
     "cell_type": "code",
     "collapsed": false,
     "input": [
      "sp.getnnz()"
     ],
     "language": "python",
     "metadata": {},
     "outputs": [
      {
       "metadata": {},
       "output_type": "pyout",
       "prompt_number": 48,
       "text": [
        "5"
       ]
      }
     ],
     "prompt_number": 48
    },
    {
     "cell_type": "code",
     "collapsed": false,
     "input": [
      "print sp"
     ],
     "language": "python",
     "metadata": {},
     "outputs": [
      {
       "output_type": "stream",
       "stream": "stdout",
       "text": [
        "  (0, 2)\t2\n",
        "  (0, 3)\t3\n",
        "  (1, 0)\t4\n",
        "  (1, 2)\t6\n",
        "  (1, 3)\t7\n"
       ]
      }
     ],
     "prompt_number": 49
    },
    {
     "cell_type": "code",
     "collapsed": false,
     "input": [
      "#spc = sparse.csr_matrix(sp)\n",
      "spc = sp.copy()\n",
      "print spc\n",
      "spc[:,2]=0\n",
      "print spc\n",
      "print sp"
     ],
     "language": "python",
     "metadata": {},
     "outputs": [
      {
       "output_type": "stream",
       "stream": "stdout",
       "text": [
        "  (0, 2)\t2\n",
        "  (0, 3)\t3\n",
        "  (1, 0)\t4\n",
        "  (1, 2)\t6\n",
        "  (1, 3)\t7\n",
        "  (0, 2)\t0\n",
        "  (0, 3)\t3\n",
        "  (1, 0)\t4\n",
        "  (1, 2)\t0\n",
        "  (1, 3)\t7\n",
        "  (2, 2)\t0"
       ]
      },
      {
       "output_type": "stream",
       "stream": "stdout",
       "text": [
        "\n",
        "  (0, 2)\t2\n",
        "  (0, 3)\t3\n",
        "  (1, 0)\t4\n",
        "  (1, 2)\t6\n",
        "  (1, 3)\t7\n"
       ]
      },
      {
       "output_type": "stream",
       "stream": "stderr",
       "text": [
        "C:\\Users\\Willem\\Anaconda\\lib\\site-packages\\scipy\\sparse\\compressed.py:728: SparseEfficiencyWarning: Changing the sparsity structure of a csr_matrix is expensive. lil_matrix is more efficient.\n",
        "  SparseEfficiencyWarning)\n"
       ]
      }
     ],
     "prompt_number": 60
    },
    {
     "cell_type": "code",
     "collapsed": false,
     "input": [
      "import data_manager"
     ],
     "language": "python",
     "metadata": {},
     "outputs": [
      {
       "ename": "SyntaxError",
       "evalue": "invalid syntax (data_manager.py, line 185)",
       "output_type": "pyerr",
       "traceback": [
        "\u001b[1;36m  File \u001b[1;32m\"data_manager.py\"\u001b[1;36m, line \u001b[1;32m185\u001b[0m\n\u001b[1;33m    assert len(self.dict_csr_rand_and_targetted_dropout_matrices)<=1 #Can remove - right now I just don't see why we would have more than one defined at a time!\u001b[0m\n\u001b[1;37m                    ^\u001b[0m\n\u001b[1;31mSyntaxError\u001b[0m\u001b[1;31m:\u001b[0m invalid syntax\n"
       ]
      }
     ],
     "prompt_number": 6
    },
    {
     "cell_type": "code",
     "collapsed": false,
     "input": [
      "\"{:b}\".format(10)"
     ],
     "language": "python",
     "metadata": {},
     "outputs": [
      {
       "metadata": {},
       "output_type": "pyout",
       "prompt_number": 7,
       "text": [
        "'1010'"
       ]
      }
     ],
     "prompt_number": 7
    },
    {
     "cell_type": "code",
     "collapsed": false,
     "input": [
      "\"{:%}\".format(10)"
     ],
     "language": "python",
     "metadata": {},
     "outputs": [
      {
       "metadata": {},
       "output_type": "pyout",
       "prompt_number": 8,
       "text": [
        "'1000.000000%'"
       ]
      }
     ],
     "prompt_number": 8
    },
    {
     "cell_type": "code",
     "collapsed": false,
     "input": [
      "\"{:d}\".format(0.8)"
     ],
     "language": "python",
     "metadata": {},
     "outputs": [
      {
       "ename": "ValueError",
       "evalue": "Unknown format code 'd' for object of type 'float'",
       "output_type": "pyerr",
       "traceback": [
        "\u001b[1;31m---------------------------------------------------------------------------\u001b[0m\n\u001b[1;31mValueError\u001b[0m                                Traceback (most recent call last)",
        "\u001b[1;32m<ipython-input-11-2c9fb685fb87>\u001b[0m in \u001b[0;36m<module>\u001b[1;34m()\u001b[0m\n\u001b[1;32m----> 1\u001b[1;33m \u001b[1;34m\"{:d}\"\u001b[0m\u001b[1;33m.\u001b[0m\u001b[0mformat\u001b[0m\u001b[1;33m(\u001b[0m\u001b[1;36m0.8\u001b[0m\u001b[1;33m)\u001b[0m\u001b[1;33m\u001b[0m\u001b[0m\n\u001b[0m",
        "\u001b[1;31mValueError\u001b[0m: Unknown format code 'd' for object of type 'float'"
       ]
      }
     ],
     "prompt_number": 11
    },
    {
     "cell_type": "code",
     "collapsed": false,
     "input": [
      "\"{:f}\".format(0.8)"
     ],
     "language": "python",
     "metadata": {},
     "outputs": [
      {
       "metadata": {},
       "output_type": "pyout",
       "prompt_number": 12,
       "text": [
        "'0.800000'"
       ]
      }
     ],
     "prompt_number": 12
    },
    {
     "cell_type": "code",
     "collapsed": false,
     "input": [
      "\"{:_>10.3f}\".format(0.8)"
     ],
     "language": "python",
     "metadata": {},
     "outputs": [
      {
       "metadata": {},
       "output_type": "pyout",
       "prompt_number": 21,
       "text": [
        "'_____0.800'"
       ]
      }
     ],
     "prompt_number": 21
    },
    {
     "cell_type": "code",
     "collapsed": false,
     "input": [
      "\"{:.3f}\".format(0.8)"
     ],
     "language": "python",
     "metadata": {},
     "outputs": [
      {
       "metadata": {},
       "output_type": "pyout",
       "prompt_number": 18,
       "text": [
        "'0.800'"
       ]
      }
     ],
     "prompt_number": 18
    },
    {
     "cell_type": "code",
     "collapsed": false,
     "input": [
      "for x in range(10):\n",
      "    print \"{:>2d}{:>3d}{:>4d}\".format(x,x**2,x**3)"
     ],
     "language": "python",
     "metadata": {},
     "outputs": [
      {
       "output_type": "stream",
       "stream": "stdout",
       "text": [
        " 0  0   0\n",
        " 1  1   1\n",
        " 2  4   8\n",
        " 3  9  27\n",
        " 4 16  64\n",
        " 5 25 125\n",
        " 6 36 216\n",
        " 7 49 343\n",
        " 8 64 512\n",
        " 9 81 729\n"
       ]
      }
     ],
     "prompt_number": 22
    },
    {
     "cell_type": "code",
     "collapsed": false,
     "input": [
      "vars()"
     ],
     "language": "python",
     "metadata": {},
     "outputs": [
      {
       "metadata": {},
       "output_type": "pyout",
       "prompt_number": 23,
       "text": [
        "{'In': ['',\n",
        "  u'import data_manager',\n",
        "  u'import data_manager',\n",
        "  u'import data_manager',\n",
        "  u'import data_manager',\n",
        "  u'import data_manager',\n",
        "  u'import data_manager',\n",
        "  u'\"{:b}\".format(10)',\n",
        "  u'\"{:%}\".format(10)',\n",
        "  u'\"{:d}\".format(0.8)',\n",
        "  u'\"{:f}\".format(0.8)',\n",
        "  u'\"{:d}\".format(0.8)',\n",
        "  u'\"{:f}\".format(0.8)',\n",
        "  u'\"{:.3f}\".format(0.8)',\n",
        "  u'\"{:.3b}\".format(0.8)',\n",
        "  u'\"{:.3f}\".format(0.8)',\n",
        "  u'\"{:>10.3f}\".format(0.8)',\n",
        "  u'\"{:.3f>10}\".format(0.8)',\n",
        "  u'\"{:.3f}\".format(0.8)',\n",
        "  u'\"{:->10.3f}\".format(0.8)',\n",
        "  u'\"{:.>10.3f}\".format(0.8)',\n",
        "  u'\"{:_>10.3f}\".format(0.8)',\n",
        "  u'for x in range(10):\\n    print \"{:>2d}{:>3d}{:>4d}\".format(x,x**2,x**3)',\n",
        "  u'vars()'],\n",
        " 'Out': {7: '1010',\n",
        "  8: '1000.000000%',\n",
        "  10: '0.800000',\n",
        "  12: '0.800000',\n",
        "  13: '0.800',\n",
        "  15: '0.800',\n",
        "  16: '     0.800',\n",
        "  18: '0.800',\n",
        "  19: '-----0.800',\n",
        "  20: '.....0.800',\n",
        "  21: '_____0.800'},\n",
        " '_': '_____0.800',\n",
        " '_10': '0.800000',\n",
        " '_12': '0.800000',\n",
        " '_13': '0.800',\n",
        " '_15': '0.800',\n",
        " '_16': '     0.800',\n",
        " '_18': '0.800',\n",
        " '_19': '-----0.800',\n",
        " '_20': '.....0.800',\n",
        " '_21': '_____0.800',\n",
        " '_7': '1010',\n",
        " '_8': '1000.000000%',\n",
        " '__': '.....0.800',\n",
        " '___': '-----0.800',\n",
        " '__builtin__': <module '__builtin__' (built-in)>,\n",
        " '__builtins__': <module '__builtin__' (built-in)>,\n",
        " '__doc__': 'Automatically created module for IPython interactive environment',\n",
        " '__name__': '__main__',\n",
        " '__package__': None,\n",
        " '_dh': [u'C:\\\\Users\\\\Willem\\\\SkyDrive\\\\Documents\\\\School\\\\SFU\\\\Research\\\\Kiri'],\n",
        " '_i': u'for x in range(10):\\n    print \"{:>2d}{:>3d}{:>4d}\".format(x,x**2,x**3)',\n",
        " '_i1': u'import data_manager',\n",
        " '_i10': u'\"{:f}\".format(0.8)',\n",
        " '_i11': u'\"{:d}\".format(0.8)',\n",
        " '_i12': u'\"{:f}\".format(0.8)',\n",
        " '_i13': u'\"{:.3f}\".format(0.8)',\n",
        " '_i14': u'\"{:.3b}\".format(0.8)',\n",
        " '_i15': u'\"{:.3f}\".format(0.8)',\n",
        " '_i16': u'\"{:>10.3f}\".format(0.8)',\n",
        " '_i17': u'\"{:.3f>10}\".format(0.8)',\n",
        " '_i18': u'\"{:.3f}\".format(0.8)',\n",
        " '_i19': u'\"{:->10.3f}\".format(0.8)',\n",
        " '_i2': u'import data_manager',\n",
        " '_i20': u'\"{:.>10.3f}\".format(0.8)',\n",
        " '_i21': u'\"{:_>10.3f}\".format(0.8)',\n",
        " '_i22': u'for x in range(10):\\n    print \"{:>2d}{:>3d}{:>4d}\".format(x,x**2,x**3)',\n",
        " '_i23': u'vars()',\n",
        " '_i3': u'import data_manager',\n",
        " '_i4': u'import data_manager',\n",
        " '_i5': u'import data_manager',\n",
        " '_i6': u'import data_manager',\n",
        " '_i7': u'\"{:b}\".format(10)',\n",
        " '_i8': u'\"{:%}\".format(10)',\n",
        " '_i9': u'\"{:d}\".format(0.8)',\n",
        " '_ih': ['',\n",
        "  u'import data_manager',\n",
        "  u'import data_manager',\n",
        "  u'import data_manager',\n",
        "  u'import data_manager',\n",
        "  u'import data_manager',\n",
        "  u'import data_manager',\n",
        "  u'\"{:b}\".format(10)',\n",
        "  u'\"{:%}\".format(10)',\n",
        "  u'\"{:d}\".format(0.8)',\n",
        "  u'\"{:f}\".format(0.8)',\n",
        "  u'\"{:d}\".format(0.8)',\n",
        "  u'\"{:f}\".format(0.8)',\n",
        "  u'\"{:.3f}\".format(0.8)',\n",
        "  u'\"{:.3b}\".format(0.8)',\n",
        "  u'\"{:.3f}\".format(0.8)',\n",
        "  u'\"{:>10.3f}\".format(0.8)',\n",
        "  u'\"{:.3f>10}\".format(0.8)',\n",
        "  u'\"{:.3f}\".format(0.8)',\n",
        "  u'\"{:->10.3f}\".format(0.8)',\n",
        "  u'\"{:.>10.3f}\".format(0.8)',\n",
        "  u'\"{:_>10.3f}\".format(0.8)',\n",
        "  u'for x in range(10):\\n    print \"{:>2d}{:>3d}{:>4d}\".format(x,x**2,x**3)',\n",
        "  u'vars()'],\n",
        " '_ii': u'\"{:_>10.3f}\".format(0.8)',\n",
        " '_iii': u'\"{:.>10.3f}\".format(0.8)',\n",
        " '_oh': {7: '1010',\n",
        "  8: '1000.000000%',\n",
        "  10: '0.800000',\n",
        "  12: '0.800000',\n",
        "  13: '0.800',\n",
        "  15: '0.800',\n",
        "  16: '     0.800',\n",
        "  18: '0.800',\n",
        "  19: '-----0.800',\n",
        "  20: '.....0.800',\n",
        "  21: '_____0.800'},\n",
        " '_sh': <module 'IPython.core.shadowns' from 'C:\\Users\\Willem\\Anaconda\\lib\\site-packages\\IPython\\core\\shadowns.pyc'>,\n",
        " 'exit': <IPython.core.autocall.ZMQExitAutocall at 0x53dae10>,\n",
        " 'get_ipython': <bound method ZMQInteractiveShell.get_ipython of <IPython.kernel.zmq.zmqshell.ZMQInteractiveShell object at 0x00000000053D4FD0>>,\n",
        " 'help': Type help() for interactive help, or help(object) for help about object.,\n",
        " 'quit': <IPython.core.autocall.ZMQExitAutocall at 0x53dae10>,\n",
        " 'x': 9}"
       ]
      }
     ],
     "prompt_number": 23
    },
    {
     "cell_type": "code",
     "collapsed": false,
     "input": [
      "list('workd')"
     ],
     "language": "python",
     "metadata": {},
     "outputs": [
      {
       "metadata": {},
       "output_type": "pyout",
       "prompt_number": 24,
       "text": [
        "['w', 'o', 'r', 'k', 'd']"
       ]
      }
     ],
     "prompt_number": 24
    },
    {
     "cell_type": "code",
     "collapsed": false,
     "input": [],
     "language": "python",
     "metadata": {},
     "outputs": []
    }
   ],
   "metadata": {}
  }
 ]
}