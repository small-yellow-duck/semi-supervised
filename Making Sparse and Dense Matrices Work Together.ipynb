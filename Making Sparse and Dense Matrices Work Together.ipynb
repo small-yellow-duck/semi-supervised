{
 "metadata": {
  "name": ""
 },
 "nbformat": 3,
 "nbformat_minor": 0,
 "worksheets": [
  {
   "cells": [
    {
     "cell_type": "heading",
     "level": 3,
     "metadata": {},
     "source": [
      "What do we get when we take a row slice of a dense matrix?"
     ]
    },
    {
     "cell_type": "code",
     "collapsed": false,
     "input": [
      "import numpy as np\n",
      "import scipy.sparse as sparse\n",
      "M=np.arange(110).reshape(10,11)\n",
      "print M\n",
      "print M[2]\n",
      "print M[2].shape\n",
      "S=sparse.csr_matrix(M*(M%4==0))\n",
      "print S.todense()"
     ],
     "language": "python",
     "metadata": {},
     "outputs": [
      {
       "output_type": "stream",
       "stream": "stdout",
       "text": [
        "[[  0   1   2   3   4   5   6   7   8   9  10]\n",
        " [ 11  12  13  14  15  16  17  18  19  20  21]\n",
        " [ 22  23  24  25  26  27  28  29  30  31  32]\n",
        " [ 33  34  35  36  37  38  39  40  41  42  43]\n",
        " [ 44  45  46  47  48  49  50  51  52  53  54]\n",
        " [ 55  56  57  58  59  60  61  62  63  64  65]\n",
        " [ 66  67  68  69  70  71  72  73  74  75  76]\n",
        " [ 77  78  79  80  81  82  83  84  85  86  87]\n",
        " [ 88  89  90  91  92  93  94  95  96  97  98]\n",
        " [ 99 100 101 102 103 104 105 106 107 108 109]]\n",
        "[22 23 24 25 26 27 28 29 30 31 32]\n",
        "(11L,)\n",
        "[[  0   0   0   0   4   0   0   0   8   0   0]\n",
        " [  0  12   0   0   0  16   0   0   0  20   0]\n",
        " [  0   0  24   0   0   0  28   0   0   0  32]\n",
        " [  0   0   0  36   0   0   0  40   0   0   0]\n",
        " [ 44   0   0   0  48   0   0   0  52   0   0]\n",
        " [  0  56   0   0   0  60   0   0   0  64   0]\n",
        " [  0   0  68   0   0   0  72   0   0   0  76]\n",
        " [  0   0   0  80   0   0   0  84   0   0   0]\n",
        " [ 88   0   0   0  92   0   0   0  96   0   0]\n",
        " [  0 100   0   0   0 104   0   0   0 108   0]]\n"
       ]
      }
     ],
     "prompt_number": 6
    },
    {
     "cell_type": "code",
     "collapsed": false,
     "input": [
      "dir(S)"
     ],
     "language": "python",
     "metadata": {},
     "outputs": [
      {
       "metadata": {},
       "output_type": "pyout",
       "prompt_number": 7,
       "text": [
        "['__abs__',\n",
        " '__add__',\n",
        " '__array_priority__',\n",
        " '__bool__',\n",
        " '__class__',\n",
        " '__delattr__',\n",
        " '__dict__',\n",
        " '__div__',\n",
        " '__doc__',\n",
        " '__eq__',\n",
        " '__format__',\n",
        " '__ge__',\n",
        " '__getattr__',\n",
        " '__getattribute__',\n",
        " '__getitem__',\n",
        " '__gt__',\n",
        " '__hash__',\n",
        " '__iadd__',\n",
        " '__idiv__',\n",
        " '__imul__',\n",
        " '__init__',\n",
        " '__isub__',\n",
        " '__iter__',\n",
        " '__itruediv__',\n",
        " '__le__',\n",
        " '__len__',\n",
        " '__lt__',\n",
        " '__module__',\n",
        " '__mul__',\n",
        " '__ne__',\n",
        " '__neg__',\n",
        " '__new__',\n",
        " '__nonzero__',\n",
        " '__pow__',\n",
        " '__radd__',\n",
        " '__reduce__',\n",
        " '__reduce_ex__',\n",
        " '__repr__',\n",
        " '__rmul__',\n",
        " '__rsub__',\n",
        " '__setattr__',\n",
        " '__setitem__',\n",
        " '__sizeof__',\n",
        " '__str__',\n",
        " '__sub__',\n",
        " '__subclasshook__',\n",
        " '__truediv__',\n",
        " '__weakref__',\n",
        " '_binopt',\n",
        " '_boolean_index_to_array',\n",
        " '_check_boolean',\n",
        " '_cs_matrix__get_sorted',\n",
        " '_cs_matrix__set_sorted',\n",
        " '_get_dtype',\n",
        " '_get_row_slice',\n",
        " '_get_single_element',\n",
        " '_get_slice',\n",
        " '_get_submatrix',\n",
        " '_imag',\n",
        " '_index_to_arrays',\n",
        " '_mul_multivector',\n",
        " '_mul_scalar',\n",
        " '_mul_sparse_matrix',\n",
        " '_mul_vector',\n",
        " '_process_toarray_args',\n",
        " '_real',\n",
        " '_set_dtype',\n",
        " '_set_one',\n",
        " '_set_self',\n",
        " '_shape',\n",
        " '_slicetoarange',\n",
        " '_swap',\n",
        " '_unpack_index',\n",
        " '_with_data',\n",
        " 'arcsin',\n",
        " 'arcsinh',\n",
        " 'arctan',\n",
        " 'arctanh',\n",
        " 'asformat',\n",
        " 'asfptype',\n",
        " 'astype',\n",
        " 'ceil',\n",
        " 'check_format',\n",
        " 'conj',\n",
        " 'conjugate',\n",
        " 'copy',\n",
        " 'data',\n",
        " 'deg2rad',\n",
        " 'diagonal',\n",
        " 'dot',\n",
        " 'dtype',\n",
        " 'eliminate_zeros',\n",
        " 'expm1',\n",
        " 'floor',\n",
        " 'format',\n",
        " 'getH',\n",
        " 'get_shape',\n",
        " 'getcol',\n",
        " 'getformat',\n",
        " 'getmaxprint',\n",
        " 'getnnz',\n",
        " 'getrow',\n",
        " 'has_sorted_indices',\n",
        " 'indices',\n",
        " 'indptr',\n",
        " 'log1p',\n",
        " 'max',\n",
        " 'maxprint',\n",
        " 'mean',\n",
        " 'min',\n",
        " 'multiply',\n",
        " 'ndim',\n",
        " 'nnz',\n",
        " 'nonzero',\n",
        " 'prune',\n",
        " 'rad2deg',\n",
        " 'reshape',\n",
        " 'rint',\n",
        " 'set_shape',\n",
        " 'setdiag',\n",
        " 'shape',\n",
        " 'sign',\n",
        " 'sin',\n",
        " 'sinh',\n",
        " 'sort_indices',\n",
        " 'sorted_indices',\n",
        " 'sqrt',\n",
        " 'sum',\n",
        " 'sum_duplicates',\n",
        " 'tan',\n",
        " 'tanh',\n",
        " 'toarray',\n",
        " 'tobsr',\n",
        " 'tocoo',\n",
        " 'tocsc',\n",
        " 'tocsr',\n",
        " 'todense',\n",
        " 'todia',\n",
        " 'todok',\n",
        " 'tolil',\n",
        " 'transpose',\n",
        " 'trunc']"
       ]
      }
     ],
     "prompt_number": 7
    },
    {
     "cell_type": "code",
     "collapsed": false,
     "input": [
      "print S[4].indices\n",
      "print S[4].data"
     ],
     "language": "python",
     "metadata": {},
     "outputs": [
      {
       "output_type": "stream",
       "stream": "stdout",
       "text": [
        "[0 4 8]\n",
        "[44 48 52]\n"
       ]
      }
     ],
     "prompt_number": 10
    },
    {
     "cell_type": "code",
     "collapsed": false,
     "input": [
      "M[4][S[4].indices]+=S[4].data"
     ],
     "language": "python",
     "metadata": {},
     "outputs": [],
     "prompt_number": 11
    },
    {
     "cell_type": "code",
     "collapsed": false,
     "input": [
      "print M"
     ],
     "language": "python",
     "metadata": {},
     "outputs": [
      {
       "output_type": "stream",
       "stream": "stdout",
       "text": [
        "[[  0   1   2   3   4   5   6   7   8   9  10]\n",
        " [ 11  12  13  14  15  16  17  18  19  20  21]\n",
        " [ 22  23  24  25  26  27  28  29  30  31  32]\n",
        " [ 33  34  35  36  37  38  39  40  41  42  43]\n",
        " [ 88  45  46  47  96  49  50  51 104  53  54]\n",
        " [ 55  56  57  58  59  60  61  62  63  64  65]\n",
        " [ 66  67  68  69  70  71  72  73  74  75  76]\n",
        " [ 77  78  79  80  81  82  83  84  85  86  87]\n",
        " [ 88  89  90  91  92  93  94  95  96  97  98]\n",
        " [ 99 100 101 102 103 104 105 106 107 108 109]]\n"
       ]
      }
     ],
     "prompt_number": 12
    },
    {
     "cell_type": "code",
     "collapsed": false,
     "input": [
      "S[4,:].data"
     ],
     "language": "python",
     "metadata": {},
     "outputs": [
      {
       "metadata": {},
       "output_type": "pyout",
       "prompt_number": 13,
       "text": [
        "array([44, 48, 52])"
       ]
      }
     ],
     "prompt_number": 13
    },
    {
     "cell_type": "code",
     "collapsed": false,
     "input": [
      "S[4,:].data[S[4,:].indices]"
     ],
     "language": "python",
     "metadata": {},
     "outputs": [
      {
       "ename": "IndexError",
       "evalue": "index 4 is out of bounds for size 3",
       "output_type": "pyerr",
       "traceback": [
        "\u001b[1;31m---------------------------------------------------------------------------\u001b[0m\n\u001b[1;31mIndexError\u001b[0m                                Traceback (most recent call last)",
        "\u001b[1;32m<ipython-input-14-a3080482ed27>\u001b[0m in \u001b[0;36m<module>\u001b[1;34m()\u001b[0m\n\u001b[1;32m----> 1\u001b[1;33m \u001b[0mS\u001b[0m\u001b[1;33m[\u001b[0m\u001b[1;36m4\u001b[0m\u001b[1;33m,\u001b[0m\u001b[1;33m:\u001b[0m\u001b[1;33m]\u001b[0m\u001b[1;33m.\u001b[0m\u001b[0mdata\u001b[0m\u001b[1;33m[\u001b[0m\u001b[0mS\u001b[0m\u001b[1;33m[\u001b[0m\u001b[1;36m4\u001b[0m\u001b[1;33m,\u001b[0m\u001b[1;33m:\u001b[0m\u001b[1;33m]\u001b[0m\u001b[1;33m.\u001b[0m\u001b[0mindices\u001b[0m\u001b[1;33m]\u001b[0m\u001b[1;33m\u001b[0m\u001b[0m\n\u001b[0m",
        "\u001b[1;31mIndexError\u001b[0m: index 4 is out of bounds for size 3"
       ]
      }
     ],
     "prompt_number": 14
    },
    {
     "cell_type": "code",
     "collapsed": false,
     "input": [
      "S[4,S[4,:].indices].data\n",
      "\n"
     ],
     "language": "python",
     "metadata": {},
     "outputs": [
      {
       "metadata": {},
       "output_type": "pyout",
       "prompt_number": 21,
       "text": [
        "array([52, 48, 44])"
       ]
      }
     ],
     "prompt_number": 21
    },
    {
     "cell_type": "code",
     "collapsed": false,
     "input": [
      "S[4,:].indices"
     ],
     "language": "python",
     "metadata": {},
     "outputs": [
      {
       "metadata": {},
       "output_type": "pyout",
       "prompt_number": 20,
       "text": [
        "array([0, 4, 8])"
       ]
      }
     ],
     "prompt_number": 20
    },
    {
     "cell_type": "code",
     "collapsed": false,
     "input": [
      "S[4,:].data"
     ],
     "language": "python",
     "metadata": {},
     "outputs": [
      {
       "metadata": {},
       "output_type": "pyout",
       "prompt_number": 22,
       "text": [
        "array([44, 48, 52])"
       ]
      }
     ],
     "prompt_number": 22
    },
    {
     "cell_type": "code",
     "collapsed": false,
     "input": [
      "S[4,:].data = np.array(\n",
      "                       [1,2,3])"
     ],
     "language": "python",
     "metadata": {},
     "outputs": [],
     "prompt_number": 23
    },
    {
     "cell_type": "code",
     "collapsed": false,
     "input": [
      "print S.todense()\n",
      "\n"
     ],
     "language": "python",
     "metadata": {},
     "outputs": [
      {
       "output_type": "stream",
       "stream": "stdout",
       "text": [
        "[[  0   0   0   0   4   0   0   0   8   0   0]\n",
        " [  0  12   0   0   0  16   0   0   0  20   0]\n",
        " [  0   0  24   0   0   0  28   0   0   0  32]\n",
        " [  0   0   0  36   0   0   0  40   0   0   0]\n",
        " [ 44   0   0   0  48   0   0   0  52   0   0]\n",
        " [  0  56   0   0   0  60   0   0   0  64   0]\n",
        " [  0   0  68   0   0   0  72   0   0   0  76]\n",
        " [  0   0   0  80   0   0   0  84   0   0   0]\n",
        " [ 88   0   0   0  92   0   0   0  96   0   0]\n",
        " [  0 100   0   0   0 104   0   0   0 108   0]]\n"
       ]
      }
     ],
     "prompt_number": 25
    },
    {
     "cell_type": "code",
     "collapsed": false,
     "input": [
      "print M\n",
      "print S.todense()"
     ],
     "language": "python",
     "metadata": {},
     "outputs": [
      {
       "output_type": "stream",
       "stream": "stdout",
       "text": [
        "[[  0   1   2   3   4   5   6   7   8   9  10]\n",
        " [ 11  12  13  14  15  16  17  18  19  20  21]\n",
        " [ 22  23  24  25  26  27  28  29  30  31  32]\n",
        " [ 33  34  35  36  37  38  39  40  41  42  43]\n",
        " [ 88  45  46  47  96  49  50  51 104  53  54]\n",
        " [ 55  56  57  58  59  60  61  62  63  64  65]\n",
        " [ 66  67  68  69  70  71  72  73  74  75  76]\n",
        " [ 77  78  79  80  81  82  83  84  85  86  87]\n",
        " [ 88  89  90  91  92  93  94  95  96  97  98]\n",
        " [ 99 100 101 102 103 104 105 106 107 108 109]]\n",
        "[[  0   0   0   0   4   0   0   0   8   0   0]\n",
        " [  0  12   0   0   0  16   0   0   0  20   0]\n",
        " [  0   0  24   0   0   0  28   0   0   0  32]\n",
        " [  0   0   0  36   0   0   0  40   0   0   0]\n",
        " [ 44   0   0   0  48   0   0   0  52   0   0]\n",
        " [  0  56   0   0   0  60   0   0   0  64   0]\n",
        " [  0   0  68   0   0   0  72   0   0   0  76]\n",
        " [  0   0   0  80   0   0   0  84   0   0   0]\n",
        " [ 88   0   0   0  92   0   0   0  96   0   0]\n",
        " [  0 100   0   0   0 104   0   0   0 108   0]]\n"
       ]
      }
     ],
     "prompt_number": 27
    },
    {
     "cell_type": "code",
     "collapsed": false,
     "input": [
      "M[3,S[3].indices]+=S[3].data\n",
      "print M"
     ],
     "language": "python",
     "metadata": {},
     "outputs": [
      {
       "output_type": "stream",
       "stream": "stdout",
       "text": [
        "[[  0   1   2   3   4   5   6   7   8   9  10]\n",
        " [ 11  12  13  14  15  16  17  18  19  20  21]\n",
        " [ 22  23  24  25  26  27  28  29  30  31  32]\n",
        " [ 33  34  35  72  37  38  39  80  41  42  43]\n",
        " [ 88  45  46  47  96  49  50  51 104  53  54]\n",
        " [ 55  56  57  58  59  60  61  62  63  64  65]\n",
        " [ 66  67  68  69  70  71  72  73  74  75  76]\n",
        " [ 77  78  79  80  81  82  83  84  85  86  87]\n",
        " [ 88  89  90  91  92  93  94  95  96  97  98]\n",
        " [ 99 100 101 102 103 104 105 106 107 108 109]]\n"
       ]
      }
     ],
     "prompt_number": 28
    },
    {
     "cell_type": "code",
     "collapsed": false,
     "input": [
      "ls\n"
     ],
     "language": "python",
     "metadata": {},
     "outputs": [
      {
       "output_type": "stream",
       "stream": "stdout",
       "text": [
        " Volume in drive C is ACER\n",
        " Volume Serial Number is B23E-CD77\n",
        "\n",
        " Directory of C:\\Users\\Willem\\SkyDrive\\Documents\\School\\SFU\\Research\\Kiri\n",
        "\n",
        "2014-03-10  02:05 PM    <DIR>          .\n",
        "2014-03-10  02:05 PM    <DIR>          ..\n",
        "2014-02-21  12:55 PM               104 .gitignore\n",
        "2014-02-21  12:57 PM    <DIR>          .ipynb_checkpoints\n",
        "2014-03-01  11:45 AM            43,808 03-01_10,45_per_drs_UPTOdr0.3_per1_rfF_na2000_dr0.3_nc2_mlf0.95.png\n",
        "2014-03-01  11:49 AM            42,570 03-01_10,49_per_drs_UPTOdr0.3_per1_rfF_na2000_dr0.3_nc2_mlf0.95.png\n",
        "2014-03-01  11:53 AM            69,884 03-01_10,52_per_drs_UPTOdr0.9_per1_rfF_na2000_dr0.9_nc2_mlf0.95.png\n",
        "2014-03-01  12:03 PM            57,688 03-01_11,01_per_ave_drs_UPTOdr0.9_ave_per1,1000_rfF_na2000_dr0.9_nc2_mlf0.95.png\n",
        "2014-03-01  12:10 PM            43,743 03-01_11,08_per_ave_drs_long_UPTOdr0.5_ave_per1,1000_rfF_na2000_dr0.5_nc2_mlf0.95.png\n",
        "2014-03-01  12:43 PM            78,632 03-01_11,10_per_ave_drs_long_UPTOdr0.9_ave_per1,1000_rfF_na500_dr0.9_nc10_mlf0.95.png\n",
        "2014-03-10  02:26 PM            22,347 classifier.py\n",
        "2014-01-16  05:09 PM    <DIR>          data\n",
        "2014-01-23  05:21 PM           929,919 data_from_Mark.zip\n",
        "2014-02-21  12:57 PM            25,458 data_manager.py\n",
        "2014-01-16  05:00 PM             4,066 dataImport.py\n",
        "2014-01-16  05:00 PM             7,406 DL.py\n",
        "2014-03-10  02:25 PM            14,745 Making Sparse and Dense Matrices Work Together.ipynb\n",
        "2014-02-28  01:22 PM             2,071 misc.py\n",
        "2014-03-04  04:19 PM             4,536 Multilabel_Perceptron.py\n",
        "2014-03-04  04:19 PM             4,883 Multilabel_Perceptron.py~\n",
        "2014-03-04  04:19 PM             1,086 Multilabel_Perceptron_imp.py\n",
        "2014-03-10  01:55 PM    <DIR>          OLD\n",
        "2014-03-09  10:49 PM             2,273 paper.lyx\n",
        "2014-03-08  09:59 AM             1,319 paper.lyx~\n",
        "2014-03-10  01:55 PM    <DIR>          pickled_data\n",
        "2014-03-06  02:36 PM            10,139 project1.sublime-workspace\n",
        "2014-03-10  01:55 PM             4,698 Results\n",
        "2014-03-10  01:55 PM            17,803 run.py\n",
        "2014-03-06  12:57 PM            14,523 run_perceptron_2014_02_16.py\n",
        "2014-01-20  01:49 PM             4,143 runMe_2014_01_20_BK.pyc\n",
        "2014-03-10  01:55 PM             5,700 semi_supervised_learner.py\n",
        "2014-01-16  05:00 PM             1,547 Yarowsky.py\n",
        "2014-02-28  02:27 PM           225,883 yarowsky-propagation - Make a similar paper question mark.pdf\n",
        "              27 File(s)      1,640,974 bytes\n",
        "               6 Dir(s)  330,037,657,600 bytes free\n"
       ]
      }
     ],
     "prompt_number": 29
    },
    {
     "cell_type": "code",
     "collapsed": false,
     "input": [
      "run classifier.py"
     ],
     "language": "python",
     "metadata": {},
     "outputs": [
      {
       "output_type": "stream",
       "stream": "stdout",
       "text": [
        "Train multi-label perceptron: 50.00% correct\n"
       ]
      }
     ],
     "prompt_number": 30
    },
    {
     "cell_type": "code",
     "collapsed": false,
     "input": [
      "s=S[3]\n",
      "print s\n",
      "print M"
     ],
     "language": "python",
     "metadata": {},
     "outputs": [
      {
       "output_type": "stream",
       "stream": "stdout",
       "text": [
        "  (0, 3)\t36\n",
        "  (0, 7)\t40\n",
        "[[  0   1   2   3   4   5   6   7   8   9  10]\n",
        " [ 11  12  13  14  15  16  17  18  19  20  21]\n",
        " [ 22  23  24  25  26  27  28  29  30  31  32]\n",
        " [ 33  34  35  72  37  38  39  80  41  42  43]\n",
        " [ 88  45  46  47  96  49  50  51 104  53  54]\n",
        " [ 55  56  57  58  59  60  61  62  63  64  65]\n",
        " [ 66  67  68  69  70  71  72  73  74  75  76]\n",
        " [ 77  78  79  80  81  82  83  84  85  86  87]\n",
        " [ 88  89  90  91  92  93  94  95  96  97  98]\n",
        " [ 99 100 101 102 103 104 105 106 107 108 109]]\n"
       ]
      }
     ],
     "prompt_number": 32
    },
    {
     "cell_type": "code",
     "collapsed": false,
     "input": [
      "M[:,s.indices]"
     ],
     "language": "python",
     "metadata": {},
     "outputs": [
      {
       "metadata": {},
       "output_type": "pyout",
       "prompt_number": 34,
       "text": [
        "array([[  3,   7],\n",
        "       [ 14,  18],\n",
        "       [ 25,  29],\n",
        "       [ 72,  80],\n",
        "       [ 47,  51],\n",
        "       [ 58,  62],\n",
        "       [ 69,  73],\n",
        "       [ 80,  84],\n",
        "       [ 91,  95],\n",
        "       [102, 106]])"
       ]
      }
     ],
     "prompt_number": 34
    },
    {
     "cell_type": "code",
     "collapsed": false,
     "input": [
      "M[:,s.indices]+=s.data\n",
      "print M"
     ],
     "language": "python",
     "metadata": {},
     "outputs": [
      {
       "output_type": "stream",
       "stream": "stdout",
       "text": [
        "[[  0   1   2  39   4   5   6  47   8   9  10]\n",
        " [ 11  12  13  50  15  16  17  58  19  20  21]\n",
        " [ 22  23  24  61  26  27  28  69  30  31  32]\n",
        " [ 33  34  35 108  37  38  39 120  41  42  43]\n",
        " [ 88  45  46  83  96  49  50  91 104  53  54]\n",
        " [ 55  56  57  94  59  60  61 102  63  64  65]\n",
        " [ 66  67  68 105  70  71  72 113  74  75  76]\n",
        " [ 77  78  79 116  81  82  83 124  85  86  87]\n",
        " [ 88  89  90 127  92  93  94 135  96  97  98]\n",
        " [ 99 100 101 138 103 104 105 146 107 108 109]]\n"
       ]
      }
     ],
     "prompt_number": 35
    },
    {
     "cell_type": "code",
     "collapsed": false,
     "input": [
      "s.data"
     ],
     "language": "python",
     "metadata": {},
     "outputs": [
      {
       "metadata": {},
       "output_type": "pyout",
       "prompt_number": 38,
       "text": [
        "array([36, 40])"
       ]
      }
     ],
     "prompt_number": 38
    },
    {
     "cell_type": "code",
     "collapsed": false,
     "input": [
      "dot_product_elements=M[:,s.indices]*s.data\n",
      "print dot_product_elements"
     ],
     "language": "python",
     "metadata": {},
     "outputs": [
      {
       "output_type": "stream",
       "stream": "stdout",
       "text": [
        "[[1404 1880]\n",
        " [1800 2320]\n",
        " [2196 2760]\n",
        " [3888 4800]\n",
        " [2988 3640]\n",
        " [3384 4080]\n",
        " [3780 4520]\n",
        " [4176 4960]\n",
        " [4572 5400]\n",
        " [4968 5840]]\n"
       ]
      }
     ],
     "prompt_number": 40
    },
    {
     "cell_type": "code",
     "collapsed": false,
     "input": [
      "dot_product_elements.sum(axis=1)"
     ],
     "language": "python",
     "metadata": {},
     "outputs": [
      {
       "metadata": {},
       "output_type": "pyout",
       "prompt_number": 41,
       "text": [
        "array([ 3284,  4120,  4956,  8688,  6628,  7464,  8300,  9136,  9972, 10808])"
       ]
      }
     ],
     "prompt_number": 41
    },
    {
     "cell_type": "code",
     "collapsed": false,
     "input": [],
     "language": "python",
     "metadata": {},
     "outputs": []
    }
   ],
   "metadata": {}
  }
 ]
}