{
 "metadata": {
  "name": ""
 },
 "nbformat": 3,
 "nbformat_minor": 0,
 "worksheets": [
  {
   "cells": [
    {
     "cell_type": "heading",
     "level": 1,
     "metadata": {},
     "source": [
      "Understanding the code"
     ]
    },
    {
     "cell_type": "heading",
     "level": 2,
     "metadata": {},
     "source": [
      "Figuring out the tokenization"
     ]
    },
    {
     "cell_type": "raw",
     "metadata": {},
     "source": [
      "I put \"sys.exit()\" after the tokenization.\n",
      "\n",
      "I made it so I could change the splitting variable, due to concerns about inadvertently changing features:\n",
      "\n",
      "split_var='|'\n",
      "def splitter(str):\n",
      "\treturn str.split(split_var)\n",
      "train2 = [split_var.join(train[i]) for i in range(len(train))]\n",
      "test2 = [split_var.join(test[i]) for i in range(len(test))]\n",
      "tfidf = TfidfVectorizer(min_df = 1, tokenizer=splitter)"
     ]
    },
    {
     "cell_type": "heading",
     "level": 4,
     "metadata": {},
     "source": [
      "split_var='|'"
     ]
    },
    {
     "cell_type": "code",
     "collapsed": false,
     "input": [
      "!python runMe_kiri_2013-12-13.py"
     ],
     "language": "python",
     "metadata": {},
     "outputs": [
      {
       "output_type": "stream",
       "stream": "stdout",
       "text": [
        "vectorizer finished, train/test shapes are:\n",
        "(89305, 68008) (877, 68008)\n"
       ]
      }
     ],
     "prompt_number": 3
    },
    {
     "cell_type": "heading",
     "level": 4,
     "metadata": {},
     "source": [
      "split_var=','"
     ]
    },
    {
     "cell_type": "code",
     "collapsed": false,
     "input": [
      "!python runMe_kiri_2013-12-13.py"
     ],
     "language": "python",
     "metadata": {},
     "outputs": [
      {
       "output_type": "stream",
       "stream": "stdout",
       "text": [
        "vectorizer finished, train/test shapes are:\n",
        "(89305, 68017) (877, 68017)\n"
       ]
      }
     ],
     "prompt_number": 4
    },
    {
     "cell_type": "heading",
     "level": 4,
     "metadata": {},
     "source": [
      "split_var='@'"
     ]
    },
    {
     "cell_type": "code",
     "collapsed": false,
     "input": [
      "!python runMe_kiri_2013-12-13.py"
     ],
     "language": "python",
     "metadata": {},
     "outputs": [
      {
       "output_type": "stream",
       "stream": "stdout",
       "text": [
        "vectorizer finished for split_var @  train/test shapes are:\n",
        "(89305, 68008) (877, 68008)\n"
       ]
      }
     ],
     "prompt_number": 6
    },
    {
     "cell_type": "heading",
     "level": 3,
     "metadata": {},
     "source": [
      "Conclusion:"
     ]
    },
    {
     "cell_type": "raw",
     "metadata": {},
     "source": [
      "The ',' occurs in some of the features, and so by using this as the splitting token we were inadvertently modifying the features somewhat.  Since they agree, I assume that using '|' or '@' are both OK."
     ]
    }
   ],
   "metadata": {}
  }
 ]
}